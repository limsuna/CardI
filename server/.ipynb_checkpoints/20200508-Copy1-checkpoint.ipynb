{
 "cells": [
  {
   "cell_type": "code",
   "execution_count": 3,
   "metadata": {},
   "outputs": [],
   "source": [
    "# gensim modules\n",
    "from gensim import utils\n",
    "from gensim.models.doc2vec import LabeledSentence\n",
    "from gensim.models import Doc2Vec\n",
    "\n",
    "# numpy\n",
    "import numpy\n",
    "\n",
    "# random\n",
    "from random import shuffle\n",
    "# classifier\n",
    "from sklearn.linear_model import LogisticRegression\n",
    "import pandas as pd\n",
    "from sklearn.cluster import KMeans\n",
    "# common_text에는 파싱된 워드 리스트들이 들어가 있음.\n",
    "from gensim.test.utils import common_texts\n",
    "# Doc2Vec이 우리가 텍스트를 사용해서 학습되는 모델(뉴럴넷)이고 \n",
    "# TaggedDocument가 넘겨주는 텍스트들. \n",
    "# 여기서, corpus와 ID들을 함께 넘겨줘야 하는데, 여기서 ID는 tag와 같은 말임\n",
    "# Q: 여기서, 여러 tag를 함께 넘겨준 다음, 적합한 태그를 찾아주는 방식으로도 처리할 수 있는지 파악하는 것이 필요함. \n",
    "from gensim.models.doc2vec import Doc2Vec, TaggedDocument\n",
    "from konlpy.tag import Kkma\n",
    "kkma = Kkma()\n",
    "from konlpy.tag import Okt  \n",
    "okt=Okt()\n",
    "#from konlpy.tag import Mecab # KoNLPy style mecab wrapper\n",
    "#mecab = Mecab()"
   ]
  },
  {
   "cell_type": "code",
   "execution_count": 4,
   "metadata": {},
   "outputs": [
    {
     "data": {
      "text/plain": [
       "<gensim.models.doc2vec.Doc2Vec at 0x142c3d890>"
      ]
     },
     "execution_count": 4,
     "metadata": {},
     "output_type": "execute_result"
    }
   ],
   "source": [
    "from keras.models import load_model\n",
    "\n",
    "model = Doc2Vec.load(\"pretrained.model\")\n",
    "model"
   ]
  },
  {
   "cell_type": "code",
   "execution_count": 16,
   "metadata": {},
   "outputs": [
    {
     "ename": "FileNotFoundError",
     "evalue": "[Errno 2] No such file or directory: './economic'",
     "output_type": "error",
     "traceback": [
      "\u001b[0;31m---------------------------------------------------------------------------\u001b[0m",
      "\u001b[0;31mFileNotFoundError\u001b[0m                         Traceback (most recent call last)",
      "\u001b[0;32m<ipython-input-16-ac919c4c335f>\u001b[0m in \u001b[0;36m<module>\u001b[0;34m\u001b[0m\n\u001b[1;32m      1\u001b[0m \u001b[0;32mimport\u001b[0m \u001b[0mos\u001b[0m\u001b[0;34m\u001b[0m\u001b[0;34m\u001b[0m\u001b[0m\n\u001b[1;32m      2\u001b[0m \u001b[0mpath\u001b[0m \u001b[0;34m=\u001b[0m \u001b[0;34m\"./economic\"\u001b[0m\u001b[0;34m\u001b[0m\u001b[0;34m\u001b[0m\u001b[0m\n\u001b[0;32m----> 3\u001b[0;31m \u001b[0mfile_list\u001b[0m \u001b[0;34m=\u001b[0m \u001b[0mos\u001b[0m\u001b[0;34m.\u001b[0m\u001b[0mlistdir\u001b[0m\u001b[0;34m(\u001b[0m\u001b[0mpath\u001b[0m\u001b[0;34m)\u001b[0m\u001b[0;34m\u001b[0m\u001b[0;34m\u001b[0m\u001b[0m\n\u001b[0m",
      "\u001b[0;31mFileNotFoundError\u001b[0m: [Errno 2] No such file or directory: './economic'"
     ]
    }
   ],
   "source": [
    "import os\n",
    "path = \"./economic\"\n",
    "file_list = os.listdir(path)"
   ]
  },
  {
   "cell_type": "code",
   "execution_count": 11,
   "metadata": {},
   "outputs": [
    {
     "ename": "FileNotFoundError",
     "evalue": "[Errno 2] No such file or directory: './economic/20200519_economic.csv'",
     "output_type": "error",
     "traceback": [
      "\u001b[0;31m---------------------------------------------------------------------------\u001b[0m",
      "\u001b[0;31mFileNotFoundError\u001b[0m                         Traceback (most recent call last)",
      "\u001b[0;32m<ipython-input-11-e47c42889692>\u001b[0m in \u001b[0;36m<module>\u001b[0;34m\u001b[0m\n\u001b[1;32m      1\u001b[0m \u001b[0;31m#economic = pd.read_csv('popular_news_data_economic.csv')\u001b[0m\u001b[0;34m\u001b[0m\u001b[0;34m\u001b[0m\u001b[0;34m\u001b[0m\u001b[0m\n\u001b[0;32m----> 2\u001b[0;31m \u001b[0mpolitics\u001b[0m \u001b[0;34m=\u001b[0m \u001b[0mpd\u001b[0m\u001b[0;34m.\u001b[0m\u001b[0mread_csv\u001b[0m\u001b[0;34m(\u001b[0m\u001b[0;34m'./economic/20200519_economic.csv'\u001b[0m\u001b[0;34m)\u001b[0m\u001b[0;34m\u001b[0m\u001b[0;34m\u001b[0m\u001b[0m\n\u001b[0m\u001b[1;32m      3\u001b[0m \u001b[0;31m#processed_data = pd.concat([economic, politics], ignore_index = True)\u001b[0m\u001b[0;34m\u001b[0m\u001b[0;34m\u001b[0m\u001b[0;34m\u001b[0m\u001b[0m\n",
      "\u001b[0;32m/usr/local/lib/python3.7/site-packages/pandas/io/parsers.py\u001b[0m in \u001b[0;36mread_csv\u001b[0;34m(filepath_or_buffer, sep, delimiter, header, names, index_col, usecols, squeeze, prefix, mangle_dupe_cols, dtype, engine, converters, true_values, false_values, skipinitialspace, skiprows, skipfooter, nrows, na_values, keep_default_na, na_filter, verbose, skip_blank_lines, parse_dates, infer_datetime_format, keep_date_col, date_parser, dayfirst, cache_dates, iterator, chunksize, compression, thousands, decimal, lineterminator, quotechar, quoting, doublequote, escapechar, comment, encoding, dialect, error_bad_lines, warn_bad_lines, delim_whitespace, low_memory, memory_map, float_precision)\u001b[0m\n\u001b[1;32m    684\u001b[0m     )\n\u001b[1;32m    685\u001b[0m \u001b[0;34m\u001b[0m\u001b[0m\n\u001b[0;32m--> 686\u001b[0;31m     \u001b[0;32mreturn\u001b[0m \u001b[0m_read\u001b[0m\u001b[0;34m(\u001b[0m\u001b[0mfilepath_or_buffer\u001b[0m\u001b[0;34m,\u001b[0m \u001b[0mkwds\u001b[0m\u001b[0;34m)\u001b[0m\u001b[0;34m\u001b[0m\u001b[0;34m\u001b[0m\u001b[0m\n\u001b[0m\u001b[1;32m    687\u001b[0m \u001b[0;34m\u001b[0m\u001b[0m\n\u001b[1;32m    688\u001b[0m \u001b[0;34m\u001b[0m\u001b[0m\n",
      "\u001b[0;32m/usr/local/lib/python3.7/site-packages/pandas/io/parsers.py\u001b[0m in \u001b[0;36m_read\u001b[0;34m(filepath_or_buffer, kwds)\u001b[0m\n\u001b[1;32m    450\u001b[0m \u001b[0;34m\u001b[0m\u001b[0m\n\u001b[1;32m    451\u001b[0m     \u001b[0;31m# Create the parser.\u001b[0m\u001b[0;34m\u001b[0m\u001b[0;34m\u001b[0m\u001b[0;34m\u001b[0m\u001b[0m\n\u001b[0;32m--> 452\u001b[0;31m     \u001b[0mparser\u001b[0m \u001b[0;34m=\u001b[0m \u001b[0mTextFileReader\u001b[0m\u001b[0;34m(\u001b[0m\u001b[0mfp_or_buf\u001b[0m\u001b[0;34m,\u001b[0m \u001b[0;34m**\u001b[0m\u001b[0mkwds\u001b[0m\u001b[0;34m)\u001b[0m\u001b[0;34m\u001b[0m\u001b[0;34m\u001b[0m\u001b[0m\n\u001b[0m\u001b[1;32m    453\u001b[0m \u001b[0;34m\u001b[0m\u001b[0m\n\u001b[1;32m    454\u001b[0m     \u001b[0;32mif\u001b[0m \u001b[0mchunksize\u001b[0m \u001b[0;32mor\u001b[0m \u001b[0miterator\u001b[0m\u001b[0;34m:\u001b[0m\u001b[0;34m\u001b[0m\u001b[0;34m\u001b[0m\u001b[0m\n",
      "\u001b[0;32m/usr/local/lib/python3.7/site-packages/pandas/io/parsers.py\u001b[0m in \u001b[0;36m__init__\u001b[0;34m(self, f, engine, **kwds)\u001b[0m\n\u001b[1;32m    934\u001b[0m             \u001b[0mself\u001b[0m\u001b[0;34m.\u001b[0m\u001b[0moptions\u001b[0m\u001b[0;34m[\u001b[0m\u001b[0;34m\"has_index_names\"\u001b[0m\u001b[0;34m]\u001b[0m \u001b[0;34m=\u001b[0m \u001b[0mkwds\u001b[0m\u001b[0;34m[\u001b[0m\u001b[0;34m\"has_index_names\"\u001b[0m\u001b[0;34m]\u001b[0m\u001b[0;34m\u001b[0m\u001b[0;34m\u001b[0m\u001b[0m\n\u001b[1;32m    935\u001b[0m \u001b[0;34m\u001b[0m\u001b[0m\n\u001b[0;32m--> 936\u001b[0;31m         \u001b[0mself\u001b[0m\u001b[0;34m.\u001b[0m\u001b[0m_make_engine\u001b[0m\u001b[0;34m(\u001b[0m\u001b[0mself\u001b[0m\u001b[0;34m.\u001b[0m\u001b[0mengine\u001b[0m\u001b[0;34m)\u001b[0m\u001b[0;34m\u001b[0m\u001b[0;34m\u001b[0m\u001b[0m\n\u001b[0m\u001b[1;32m    937\u001b[0m \u001b[0;34m\u001b[0m\u001b[0m\n\u001b[1;32m    938\u001b[0m     \u001b[0;32mdef\u001b[0m \u001b[0mclose\u001b[0m\u001b[0;34m(\u001b[0m\u001b[0mself\u001b[0m\u001b[0;34m)\u001b[0m\u001b[0;34m:\u001b[0m\u001b[0;34m\u001b[0m\u001b[0;34m\u001b[0m\u001b[0m\n",
      "\u001b[0;32m/usr/local/lib/python3.7/site-packages/pandas/io/parsers.py\u001b[0m in \u001b[0;36m_make_engine\u001b[0;34m(self, engine)\u001b[0m\n\u001b[1;32m   1166\u001b[0m     \u001b[0;32mdef\u001b[0m \u001b[0m_make_engine\u001b[0m\u001b[0;34m(\u001b[0m\u001b[0mself\u001b[0m\u001b[0;34m,\u001b[0m \u001b[0mengine\u001b[0m\u001b[0;34m=\u001b[0m\u001b[0;34m\"c\"\u001b[0m\u001b[0;34m)\u001b[0m\u001b[0;34m:\u001b[0m\u001b[0;34m\u001b[0m\u001b[0;34m\u001b[0m\u001b[0m\n\u001b[1;32m   1167\u001b[0m         \u001b[0;32mif\u001b[0m \u001b[0mengine\u001b[0m \u001b[0;34m==\u001b[0m \u001b[0;34m\"c\"\u001b[0m\u001b[0;34m:\u001b[0m\u001b[0;34m\u001b[0m\u001b[0;34m\u001b[0m\u001b[0m\n\u001b[0;32m-> 1168\u001b[0;31m             \u001b[0mself\u001b[0m\u001b[0;34m.\u001b[0m\u001b[0m_engine\u001b[0m \u001b[0;34m=\u001b[0m \u001b[0mCParserWrapper\u001b[0m\u001b[0;34m(\u001b[0m\u001b[0mself\u001b[0m\u001b[0;34m.\u001b[0m\u001b[0mf\u001b[0m\u001b[0;34m,\u001b[0m \u001b[0;34m**\u001b[0m\u001b[0mself\u001b[0m\u001b[0;34m.\u001b[0m\u001b[0moptions\u001b[0m\u001b[0;34m)\u001b[0m\u001b[0;34m\u001b[0m\u001b[0;34m\u001b[0m\u001b[0m\n\u001b[0m\u001b[1;32m   1169\u001b[0m         \u001b[0;32melse\u001b[0m\u001b[0;34m:\u001b[0m\u001b[0;34m\u001b[0m\u001b[0;34m\u001b[0m\u001b[0m\n\u001b[1;32m   1170\u001b[0m             \u001b[0;32mif\u001b[0m \u001b[0mengine\u001b[0m \u001b[0;34m==\u001b[0m \u001b[0;34m\"python\"\u001b[0m\u001b[0;34m:\u001b[0m\u001b[0;34m\u001b[0m\u001b[0;34m\u001b[0m\u001b[0m\n",
      "\u001b[0;32m/usr/local/lib/python3.7/site-packages/pandas/io/parsers.py\u001b[0m in \u001b[0;36m__init__\u001b[0;34m(self, src, **kwds)\u001b[0m\n\u001b[1;32m   1996\u001b[0m         \u001b[0mkwds\u001b[0m\u001b[0;34m[\u001b[0m\u001b[0;34m\"usecols\"\u001b[0m\u001b[0;34m]\u001b[0m \u001b[0;34m=\u001b[0m \u001b[0mself\u001b[0m\u001b[0;34m.\u001b[0m\u001b[0musecols\u001b[0m\u001b[0;34m\u001b[0m\u001b[0;34m\u001b[0m\u001b[0m\n\u001b[1;32m   1997\u001b[0m \u001b[0;34m\u001b[0m\u001b[0m\n\u001b[0;32m-> 1998\u001b[0;31m         \u001b[0mself\u001b[0m\u001b[0;34m.\u001b[0m\u001b[0m_reader\u001b[0m \u001b[0;34m=\u001b[0m \u001b[0mparsers\u001b[0m\u001b[0;34m.\u001b[0m\u001b[0mTextReader\u001b[0m\u001b[0;34m(\u001b[0m\u001b[0msrc\u001b[0m\u001b[0;34m,\u001b[0m \u001b[0;34m**\u001b[0m\u001b[0mkwds\u001b[0m\u001b[0;34m)\u001b[0m\u001b[0;34m\u001b[0m\u001b[0;34m\u001b[0m\u001b[0m\n\u001b[0m\u001b[1;32m   1999\u001b[0m         \u001b[0mself\u001b[0m\u001b[0;34m.\u001b[0m\u001b[0munnamed_cols\u001b[0m \u001b[0;34m=\u001b[0m \u001b[0mself\u001b[0m\u001b[0;34m.\u001b[0m\u001b[0m_reader\u001b[0m\u001b[0;34m.\u001b[0m\u001b[0munnamed_cols\u001b[0m\u001b[0;34m\u001b[0m\u001b[0;34m\u001b[0m\u001b[0m\n\u001b[1;32m   2000\u001b[0m \u001b[0;34m\u001b[0m\u001b[0m\n",
      "\u001b[0;32mpandas/_libs/parsers.pyx\u001b[0m in \u001b[0;36mpandas._libs.parsers.TextReader.__cinit__\u001b[0;34m()\u001b[0m\n",
      "\u001b[0;32mpandas/_libs/parsers.pyx\u001b[0m in \u001b[0;36mpandas._libs.parsers.TextReader._setup_parser_source\u001b[0;34m()\u001b[0m\n",
      "\u001b[0;31mFileNotFoundError\u001b[0m: [Errno 2] No such file or directory: './economic/20200519_economic.csv'"
     ]
    }
   ],
   "source": [
    "#economic = pd.read_csv('popular_news_data_economic.csv')\n",
    "politics = pd.read_csv('./economic/20200519_economic.csv')\n",
    "#processed_data = pd.concat([economic, politics], ignore_index = True)"
   ]
  },
  {
   "cell_type": "code",
   "execution_count": 4,
   "metadata": {},
   "outputs": [
    {
     "name": "stdout",
     "output_type": "stream",
     "text": [
      "최강시사\n",
      "시선집중\n",
      "노영희\n"
     ]
    }
   ],
   "source": [
    "remove_list = ['최강시사', '시선집중', '노영희']\n",
    "for i in remove_list:\n",
    "    print(i)\n",
    "    idx =  politics[politics.title.str.contains(i)].index\n",
    "    politics = politics.drop(idx)"
   ]
  },
  {
   "cell_type": "code",
   "execution_count": 5,
   "metadata": {},
   "outputs": [
    {
     "data": {
      "text/plain": [
       "1319"
      ]
     },
     "execution_count": 5,
     "metadata": {},
     "output_type": "execute_result"
    }
   ],
   "source": [
    "len(politics)"
   ]
  },
  {
   "cell_type": "code",
   "execution_count": 54,
   "metadata": {},
   "outputs": [
    {
     "data": {
      "text/plain": [
       "52"
      ]
     },
     "execution_count": 54,
     "metadata": {},
     "output_type": "execute_result"
    }
   ],
   "source": [
    "keyword = politics[politics['keyword']==\"3기 신도시 개발\"]\n",
    "keyword = keyword.dropna()\n",
    "keyword = keyword.reset_index(drop=True, inplace=False)\n",
    "len(keyword)"
   ]
  },
  {
   "cell_type": "code",
   "execution_count": 55,
   "metadata": {},
   "outputs": [
    {
     "data": {
      "text/plain": [
       "0       LG화학 인도공장 가스누출\n",
       "1              위워크 경영난\n",
       "2              한일 수출규제\n",
       "3         HDC, 아시아나 인수\n",
       "4         두산중공업 유동성 위기\n",
       "5         원유 ETN 투자 위험\n",
       "6            분양가상한제 연기\n",
       "7        '전국민 고용보험' 추진\n",
       "8            라임펀드 환매중단\n",
       "9       용산 '미니 신도시' 계획\n",
       "10        신라젠 비리 의혹 수사\n",
       "11        배달노동자 노동권 침해\n",
       "12         벤츠, 배기가스 조작\n",
       "13          규제 샌드박스 시행\n",
       "14             일본 불매운동\n",
       "15            대한항공 자금난\n",
       "16    미래에셋, 미 호텔 인수 포기\n",
       "17          삼성바이오 분식회계\n",
       "18         ILO협약 비준 논의\n",
       "19           3기 신도시 개발\n",
       "20          광주형 일자리 사업\n",
       "21          쌍용차 해고자 복직\n",
       "22            한미 통화스와프\n",
       "23          비닐봉투 금지 확산\n",
       "24       LG-SK, 배터리 분쟁\n",
       "25              인보사 사태\n",
       "26        제주항공, 이스타 인수\n",
       "27        이베이코리아 매각 추진\n",
       "Name: keyword, dtype: object"
      ]
     },
     "execution_count": 55,
     "metadata": {},
     "output_type": "execute_result"
    }
   ],
   "source": [
    "keyword_name = politics.drop_duplicates(['keyword'], keep='first')['keyword'].reset_index(drop=True, inplace=False)\n",
    "keyword_name"
   ]
  },
  {
   "cell_type": "code",
   "execution_count": 56,
   "metadata": {},
   "outputs": [],
   "source": [
    "news_text = keyword['news_text']\n",
    "news_title = keyword['title']"
   ]
  },
  {
   "cell_type": "code",
   "execution_count": 57,
   "metadata": {},
   "outputs": [
    {
     "data": {
      "text/plain": [
       "0                                                \\n\\n\\n\n",
       "1     \\n\\n          4·15총선을 앞두고 강력한 부동산 규제를 추진해 오던 더...\n",
       "2     \\n\\n          지난 5월 발표된 경기 고양 창릉, 부천 대장 등 3기 신...\n",
       "3     \\n\\n          [이데일리 경계영 기자] “화가 치밉니다. 별내에서 다산으...\n",
       "4     \\n\\n▶국토부 3기 신도시 5곳 지구지정, 12만2000가구 공급= 국토교통부가 ...\n",
       "5     \\n\\n          3기 신도시 예정 지역 중 경기 과천, 하남, 남양주시와 ...\n",
       "6     \\n\\n국토교통부가 남양주 왕숙, 하남교산, 인천계양, 과천 등 대규모 택지지구의 ...\n",
       "7     \\n\\n           [서울경제] 3기 신도시 첫 청사진이 공개됐다. 정부가 ...\n",
       "8     \\n\\n           분양가 상한제 확대 시행이 초읽기에 들어갔다. 민간택지 ...\n",
       "9     \\n\\n          3기 신도시 발표 한달여가 지났다. '1억이 떨어졌다'는 ...\n",
       "10    \\n\\n           [서울경제] 3기 신도시 입지가 확정되면서 수 십 조원에...\n",
       "11    \\n\\n          인천지하철 2호선을 경기 고양시 일산신도시까지 연장하는 방...\n",
       "12    \\n\\n           [서울경제] \\n          “추가 3기 신도시가 ...\n",
       "13               \\n\\n          유엄식 기자 usyoo@\\n         \n",
       "14    \\n\\n          [안장원의 부동산 노트]\\n          \\n\\n\\n\\...\n",
       "15    \\n\\n           김현미 국토교통부 장관이 최근 3기신도시 논란, 버스 파...\n",
       "16    \\n\\n\\n\\n\\n          ◆ 홍영선> 오랜만에 부동산 이야기 가지고 나왔...\n",
       "17    \\n\\n[아시아경제 박민규 기자] 정부가 고양 창릉지구와 부천 대장지구에 3기 신도...\n",
       "18    \\n\\n          [이데일리 박민 기자] “고양시 용두동 일대는 과거 197...\n",
       "19    \\n\\n          “어제까지 5, 6건 있었던 토지 매물이 오늘은 싹 다 들...\n",
       "20    \\n\\n          7일 국토교통부의 3기 신도시 추가 택지 발표와 관련해 부...\n",
       "21    \\n\\n           정부가 2차로 공개한 3기 신도시(5만8000가구)는 서...\n",
       "22                                               \\n\\n\\n\n",
       "23                                               \\n\\n\\n\n",
       "24                                               \\n\\n\\n\n",
       "25                                               \\n\\n\\n\n",
       "26                                               \\n\\n\\n\n",
       "27    \\n\\n\\n[아시아경제 지연진 기자] 김현미 국토교통부 장관은 7일 마지막 3기 신...\n",
       "28                                               \\n\\n\\n\n",
       "29                                               \\n\\n\\n\n",
       "30    \\n\\n\\n[아시아경제 김현정 기자] 정부가 이르면 올해부터 지급 예정인 3기 신도...\n",
       "31    \\n\\n           다음 달 중순부터 아파트 분양가 공개 항목이 62개로 확...\n",
       "32    \\n\\n          [이데일리 성주원 기자] 정부가 3기 신도시 가운데 하남교...\n",
       "33    \\n\\n          [이데일리 경계영 기자] “안그래도 30년 넘게 살던 곳에...\n",
       "34    \\n\\n\\n           한달새 땅값 2배 뛰며 137억원 거래\\n      ...\n",
       "35    \\n\\n■ 방송 : YTN 라디오 FM 94.5 (15:10~16:00)\\n    ...\n",
       "36    \\n\\n          남양주시 진건읍 P공인중개소는 “최근 몇 년간 저금리 기조...\n",
       "37    \\n\\n          교통 인프라 확충이 경기 남양주 왕숙, 하남 교산, 인천 ...\n",
       "38    \\n\\n          [남양주·과천=이데일리 정병묵 경계영 기자] “최근 땅값이...\n",
       "39                                               \\n\\n\\n\n",
       "40                                               \\n\\n\\n\n",
       "41    \\n\\n■ 방송 : YTN 라디오 FM 94.5 (15:10~16:00)\\n    ...\n",
       "42                                         \\n\\n\\n\\n\\n\\n\n",
       "43                                               \\n\\n\\n\n",
       "44                                               \\n\\n\\n\n",
       "45                                               \\n\\n\\n\n",
       "46                                               \\n\\n\\n\n",
       "47                                               \\n\\n\\n\n",
       "48                                         \\n\\n\\n\\n\\n\\n\n",
       "49                                         \\n\\n\\n\\n\\n\\n\n",
       "50                                               \\n\\n\\n\n",
       "51                                               \\n\\n\\n\n",
       "Name: news_text, dtype: object"
      ]
     },
     "execution_count": 57,
     "metadata": {},
     "output_type": "execute_result"
    }
   ],
   "source": [
    "news_text"
   ]
  },
  {
   "cell_type": "code",
   "execution_count": 58,
   "metadata": {},
   "outputs": [],
   "source": [
    "idx = keyword.index\n",
    "\n",
    "_texts=[]\n",
    "_titles=[]\n",
    "\n",
    "for i in news_text :\n",
    "    _texts.append(mecab.nouns(i))\n",
    "\n",
    "for i in news_title :\n",
    "    _titles.append(mecab.nouns(i))"
   ]
  },
  {
   "cell_type": "code",
   "execution_count": 59,
   "metadata": {},
   "outputs": [],
   "source": [
    "_tags = [] \n",
    "for j in idx:\n",
    "    _tags.append([j])"
   ]
  },
  {
   "cell_type": "markdown",
   "metadata": {},
   "source": [
    "* 조합 생성"
   ]
  },
  {
   "cell_type": "code",
   "execution_count": 60,
   "metadata": {},
   "outputs": [],
   "source": [
    "titles_and_tags = [] # idx, title 조합\n",
    "texts_and_tags = [] # idx, text 조합\n",
    "\n",
    "for i in range(len(_titles)):\n",
    "    titles_and_tags.append((_titles[i], _tags[i]))\n",
    "    texts_and_tags.append((_texts[i], _tags[i]))"
   ]
  },
  {
   "cell_type": "code",
   "execution_count": 61,
   "metadata": {},
   "outputs": [],
   "source": [
    "#Training\n",
    "#TRAIN_documents = [TaggedDocument(words=text, tags=tags) for text, tags in titles_and_tags]"
   ]
  },
  {
   "cell_type": "code",
   "execution_count": 62,
   "metadata": {},
   "outputs": [],
   "source": [
    "#model = Doc2Vec(TRAIN_documents, vector_size=100, window=10, epochs=70, workers=4)"
   ]
  },
  {
   "cell_type": "code",
   "execution_count": 63,
   "metadata": {},
   "outputs": [],
   "source": [
    "#model.save('d2v_title.model')"
   ]
  },
  {
   "cell_type": "code",
   "execution_count": 64,
   "metadata": {},
   "outputs": [],
   "source": [
    "v_list=[]\n",
    "for i in _texts: # 불러온 모델에 뉴스 텍스트 넣어서 infer\n",
    "    t_vec=model.infer_vector(i)\n",
    "    v_list.append(t_vec)"
   ]
  },
  {
   "cell_type": "code",
   "execution_count": 65,
   "metadata": {},
   "outputs": [
    {
     "data": {
      "text/plain": [
       "52"
      ]
     },
     "execution_count": 65,
     "metadata": {},
     "output_type": "execute_result"
    }
   ],
   "source": [
    "len(v_list)"
   ]
  },
  {
   "cell_type": "code",
   "execution_count": 66,
   "metadata": {},
   "outputs": [],
   "source": [
    "issue_lis = v_list"
   ]
  },
  {
   "cell_type": "code",
   "execution_count": 67,
   "metadata": {},
   "outputs": [],
   "source": [
    "from scipy.cluster.hierarchy import linkage, dendrogram\n",
    "import matplotlib.pyplot as plt\n",
    "import scipy.cluster.hierarchy as sch"
   ]
  },
  {
   "cell_type": "code",
   "execution_count": 68,
   "metadata": {},
   "outputs": [
    {
     "data": {
      "image/png": "[encoded data removed]",
      "text/plain": [
       "<Figure size 2880x1440 with 1 Axes>"
      ]
     },
     "metadata": {
      "needs_background": "light"
     },
     "output_type": "display_data"
    }
   ],
   "source": [
    "# Calculate the linkage: mergings : 전체 data\n",
    "d = sch.distance.pdist(issue_lis)   # vector of (100 choose 2) pairwise distances\n",
    "L = sch.linkage(d, method='complete')\n",
    "\n",
    "# Plot the dendrogram, using varieties as labels\n",
    "plt.figure(figsize=(40,20))\n",
    "dendrogram(L,\n",
    "           #labels = labels.as_matrix(columns=['labels']),\n",
    "           leaf_rotation=90,\n",
    "           leaf_font_size=20,\n",
    ")\n",
    "plt.show()"
   ]
  },
  {
   "cell_type": "code",
   "execution_count": 69,
   "metadata": {},
   "outputs": [
    {
     "data": {
      "image/png": "[encoded data removed]",
      "text/plain": [
       "<Figure size 2880x1440 with 1 Axes>"
      ]
     },
     "metadata": {
      "needs_background": "light"
     },
     "output_type": "display_data"
    }
   ],
   "source": [
    "# Calculate the linkage: mergings : 전체 data\n",
    "d = sch.distance.pdist(issue_lis)   # vector of (100 choose 2) pairwise distances\n",
    "L = sch.linkage(d, method='ward')\n",
    "\n",
    "# Plot the dendrogram, using varieties as labels\n",
    "plt.figure(figsize=(40,20))\n",
    "dendrogram(L,\n",
    "           #labels = labels.as_matrix(columns=['labels']),\n",
    "           leaf_rotation=90,\n",
    "           leaf_font_size=20,\n",
    ")\n",
    "plt.show()"
   ]
  },
  {
   "cell_type": "code",
   "execution_count": 70,
   "metadata": {},
   "outputs": [],
   "source": [
    "import scipy.cluster.hierarchy as sch\n",
    "ind = sch.fcluster(L, 0.6*d.max(), 'distance')\n",
    "#t -> 1에 가까워질수록 상위 클래스로 설정됨"
   ]
  },
  {
   "cell_type": "code",
   "execution_count": 71,
   "metadata": {},
   "outputs": [
    {
     "data": {
      "text/plain": [
       "array([1, 4, 1, 1, 4, 1, 1, 5, 3, 1, 4, 1, 5, 1, 5, 1, 4, 5, 1, 1, 3, 4,\n",
       "       1, 1, 1, 1, 1, 3, 1, 1, 2, 1, 1, 5, 1, 1, 2, 1, 5, 1, 1, 1, 1, 1,\n",
       "       1, 1, 1, 1, 1, 1, 1, 1], dtype=int32)"
      ]
     },
     "execution_count": 71,
     "metadata": {},
     "output_type": "execute_result"
    }
   ],
   "source": [
    "ind"
   ]
  },
  {
   "cell_type": "code",
   "execution_count": 72,
   "metadata": {},
   "outputs": [],
   "source": [
    "import numpy as np # 모든 그룹의 기사 모음\n",
    "\n",
    "grp = ind.tolist()\n",
    "grp_n = max(ind)\n",
    "\n",
    "tmp = []\n",
    "topic_set = []\n",
    "#토픽별 문서 정렬 - topic set\n",
    "for n in range(1, grp_n+1):\n",
    "    for i in range(0, len(grp)):\n",
    "        if grp[i] == n:\n",
    "            tmp.append(i)\n",
    "    topic_set.append(tmp) \n",
    "    tmp = []\n",
    "        \n",
    "#토픽 별 벡터 저장\n",
    "vector = []\n",
    "topic_vec = []\n",
    "a = 0\n",
    "for n in range(0, grp_n):\n",
    "    for i in range(0, len(topic_set[a])):\n",
    "        vector.append(issue_lis[topic_set[n][i]].tolist())\n",
    "    a+=1\n",
    "    topic_vec.append(vector)\n",
    "    vector = []\n",
    "topic_vec = np.array(topic_vec)"
   ]
  },
  {
   "cell_type": "code",
   "execution_count": 73,
   "metadata": {},
   "outputs": [
    {
     "data": {
      "text/plain": [
       "36"
      ]
     },
     "execution_count": 73,
     "metadata": {},
     "output_type": "execute_result"
    }
   ],
   "source": [
    "len(topic_vec[0])"
   ]
  },
  {
   "cell_type": "code",
   "execution_count": 74,
   "metadata": {},
   "outputs": [
    {
     "name": "stdout",
     "output_type": "stream",
     "text": [
      "------------------------------------------------------\n",
      "그룹0\n",
      "0\n",
      "서울 도심에 7만 호 공급..3기 신도시 등 조기 분양\n",
      "2\n",
      "\"신도시 3기는 투기 꽃길\" vs \"2기보다 임대 친화적\"\n",
      "3\n",
      "\"우리가 언제 동의했나\"..3기신도시 지구지정에 반발하는 주민들\n",
      "5\n",
      "주민 반발 안고 출발하는 3기 신도시\n",
      "6\n",
      "3기 신도시 사업 본궤도 올랐지만.. 원주민 반발도 본격화\n",
      "9\n",
      "한달만에 코가 쑥빠진 '일산 1억 폭락설'\n",
      "11\n",
      "김현미 \"인천지하철 2호선 일산까지 연장\"\n",
      "13\n",
      "첫삽도 안 떴는데.. 3기 신도시 앞에 놓인 '가시밭길'\n",
      "15\n",
      "'文정부 국토부 시즌2' 시험대..김현미, 내우외환 돌파할까\n",
      "18\n",
      "[르포]고양 창릉, 부천 대장..\"3기 신도시 지정에 들썩\"(종합)\n",
      "19\n",
      "그린벨트 대거 풀어 신도시로.. 강남 수요 분산효과는 없을 듯\n",
      "22\n",
      "3기 신도시, \"수도권 집값 안정에 도움 vs 공급과잉 우려\"(종합)\n",
      "23\n",
      "'3기 신도시' 고양·부천시 \"환영\"..주민들 반응은 엇갈려\n",
      "24\n",
      "그린벨트 풀고 자투리땅도 동원..3기 신도시 로드맵 '마무리'(종합)\n",
      "25\n",
      "3기 신도시 품은 부천시 '환영'..2기 신도시 검단은 '우려'(종합)\n",
      "26\n",
      "'자투리땅' 총동원해 3기 신도시 30만가구 로드맵 '마무리'\n",
      "28\n",
      "고양 창릉·부천 대장에 3기 신도시..서울에도 1만가구 공급(종합)\n",
      "29\n",
      "고양 창릉·부천 대장에 3기신도시..사당역 등에도 1만가구 공급(2보)\n",
      "31\n",
      "정부 \"3기 신도시 분양가 떨어질것\" 건설업계 \"효과없이 갈등 초래\"\n",
      "32\n",
      "문화재 알고도 강행..3기신도시 '꼼수' 논란\n",
      "34\n",
      "3기 신도시 첫삽 뜨기도 전에..과천 몸살(종합)\n",
      "35\n",
      "[생생경제] 3기 신도시 후폭풍.. 신도시 성공요건에 대한 고찰\n",
      "37\n",
      "'3기 신도시' 서울까지 30분?..실제 1시간 가까이 걸려\n",
      "39\n",
      "[3기 신도시] 예상보다는 먼 신도시..수도권 주택수요 잡을까(종합)\n",
      "40\n",
      "[3기 신도시] GTX 빨라야 2023년 말 완공..초기 입주민 불편 우려\n",
      "41\n",
      "[생생경제] 3기 신도시 발표, 수도권 공급 확대하고 서울 집값까지 잡을까?\n",
      "42\n",
      "[3기 신도시] 빈 빌딩·도로 위도 집으로..서울 부동산 잡기 총력전\n",
      "43\n",
      "[3기 신도시] 국토부 \"철도와 버스·직장 갖춰진 자족도시 구상\"(종합)\n",
      "44\n",
      "[3기 신도시] '서울서 30분'..전문가들 \"교통·자족기능이 관건\"(종합)\n",
      "45\n",
      "[3기 신도시] 국토부 \"철도와 버스·직장 갖춘 자족도시 구상\"\n",
      "46\n",
      "[3기 신도시] 전문가들 \"빠른 교통망 확충·자급기능 충족이 관건\"\n",
      "47\n",
      "[3기 신도시] 외곽순환로 복층화..GTX 조기 착공·M-버스 확충\n",
      "48\n",
      "박원순 \"서울에 주택 8만호 공급..도심 개발 추진\"\n",
      "49\n",
      "과천에도 택지..남양주·하남·인천 계양에 100만㎡ 이상 신도시(종합2보)\n",
      "50\n",
      "남양주·하남·인천 계양에 신도시, 과천에도 중규모 택지 조성(종합)\n",
      "51\n",
      "3기 신도시 이르면 금주 발표..광역교통 대책도 함께 제시\n",
      "------------------------------------------------------\n",
      "그룹1\n",
      "30\n",
      "[단독]3기 신도시 토지보상금, 투기판으로 갈까..정부, 연금형 분할지급 추진(종합)\n",
      "36\n",
      "\"집 안보고 계약금부터 넣겠다\" 사라진 매물, 투자문의만 빗발\n",
      "------------------------------------------------------\n",
      "그룹2\n",
      "8\n",
      "민간 분양가 상한제, 시장에 약 될까 독 될까?\n",
      "20\n",
      "\"쓸 수 있는 패 다 썼다\"..'집 사지 말고 분양 기다려라' 신호 [3기 신도시 추가 지정]\n",
      "27\n",
      "[일문일답]김현미 장관 \"강남이 좋습니까?..어느 지역이든 주거만족도 높아야\"\n",
      "------------------------------------------------------\n",
      "그룹3\n",
      "1\n",
      "종부세 완화? 3기 신도시 백지화? 각당 부동산 공약 살펴보니..\n",
      "4\n",
      "속도전 돌입한 3기 신도시 ..\"토지보상·철회 요구\" 더 커진 주민 반발\n",
      "10\n",
      "계약기간 단축 .. 대토 보상 띄운다\n",
      "16\n",
      "[홍기자의 쏘왓] 신도시끼리 싸움 부른 3기 신도시 지정\n",
      "21\n",
      "일산 옆 또 신도시..고양선 신설로 여의도 25분\n",
      "------------------------------------------------------\n",
      "그룹4\n",
      "7\n",
      "시동 건 3기신도시..남양주 왕숙지구 등 5곳 12만가구 2021년부터 공급\n",
      "12\n",
      "\"일산만의 근심 아냐\"..급매 내놓는 1기 신도시\n",
      "14\n",
      "3기 신도시 발목 잡는 후분양제..공급 공백·고분양가 우려\n",
      "17\n",
      "'고양 창릉·부천 대장' 3기 신도시 교통대책 실효성은..\n",
      "33\n",
      "\"헐값에 땅 내놓으라고?\" 공시지가 후폭풍, 3기신도시 보상 논란\n",
      "38\n",
      "3기 신도시 가보니..\"보상은 제대로 하나\" 벌써 갈등 예고\n"
     ]
    }
   ],
   "source": [
    "#그룹 한번에 모두 출력\n",
    "for i in range(0, grp_n):\n",
    "    print(\"------------------------------------------------------\")\n",
    "    print(\"그룹\" + str(i))\n",
    "    for a in topic_set[i]:\n",
    "        print(a)\n",
    "        print(keyword['title'][a])"
   ]
  },
  {
   "cell_type": "code",
   "execution_count": 75,
   "metadata": {},
   "outputs": [],
   "source": [
    "from numpy import dot\n",
    "from numpy.linalg import norm\n",
    "import numpy as np\n",
    "\n",
    "def cos_sim(A, B):\n",
    "       return dot(A, B)/(norm(A)*norm(B))\n",
    "    \n",
    "def similarity_matrix(X) :\n",
    "\n",
    "    total_similarity = []\n",
    "\n",
    "    for i in X :\n",
    "        s_list = []\n",
    "        for j in X :\n",
    "            s_list.append(cos_sim(i,j))\n",
    "        total_similarity.append(s_list)\n",
    "\n",
    "    return total_similarity"
   ]
  },
  {
   "cell_type": "code",
   "execution_count": 76,
   "metadata": {},
   "outputs": [
    {
     "ename": "PowerIterationFailedConvergence",
     "evalue": "(PowerIterationFailedConvergence(...), 'power iteration failed to converge within 100 iterations')",
     "output_type": "error",
     "traceback": [
      "\u001b[0;31m---------------------------------------------------------------------------\u001b[0m",
      "\u001b[0;31mPowerIterationFailedConvergence\u001b[0m           Traceback (most recent call last)",
      "\u001b[0;32m<ipython-input-76-877a1047b213>\u001b[0m in \u001b[0;36m<module>\u001b[0;34m\u001b[0m\n\u001b[1;32m     15\u001b[0m             \u001b[0mdg\u001b[0m\u001b[0;34m.\u001b[0m\u001b[0madd_edge\u001b[0m\u001b[0;34m(\u001b[0m\u001b[0mtopic_set\u001b[0m\u001b[0;34m[\u001b[0m\u001b[0mm\u001b[0m\u001b[0;34m]\u001b[0m\u001b[0;34m[\u001b[0m\u001b[0mi\u001b[0m\u001b[0;34m]\u001b[0m\u001b[0;34m,\u001b[0m \u001b[0mtopic_set\u001b[0m\u001b[0;34m[\u001b[0m\u001b[0mm\u001b[0m\u001b[0;34m]\u001b[0m\u001b[0;34m[\u001b[0m\u001b[0mj\u001b[0m\u001b[0;34m]\u001b[0m\u001b[0;34m,\u001b[0m \u001b[0mweight\u001b[0m \u001b[0;34m=\u001b[0m \u001b[0msimilarity\u001b[0m\u001b[0;34m[\u001b[0m\u001b[0mi\u001b[0m\u001b[0;34m]\u001b[0m\u001b[0;34m[\u001b[0m\u001b[0mj\u001b[0m\u001b[0;34m]\u001b[0m\u001b[0;34m)\u001b[0m\u001b[0;34m\u001b[0m\u001b[0;34m\u001b[0m\u001b[0m\n\u001b[1;32m     16\u001b[0m \u001b[0;34m\u001b[0m\u001b[0m\n\u001b[0;32m---> 17\u001b[0;31m     \u001b[0mpagerank\u001b[0m \u001b[0;34m=\u001b[0m \u001b[0mnx\u001b[0m\u001b[0;34m.\u001b[0m\u001b[0mpagerank\u001b[0m\u001b[0;34m(\u001b[0m\u001b[0mdg\u001b[0m\u001b[0;34m)\u001b[0m\u001b[0;34m\u001b[0m\u001b[0;34m\u001b[0m\u001b[0m\n\u001b[0m\u001b[1;32m     18\u001b[0m     \u001b[0mpagerank_list\u001b[0m\u001b[0;34m.\u001b[0m\u001b[0mappend\u001b[0m\u001b[0;34m(\u001b[0m\u001b[0mlist\u001b[0m\u001b[0;34m(\u001b[0m\u001b[0mpagerank\u001b[0m\u001b[0;34m.\u001b[0m\u001b[0mkeys\u001b[0m\u001b[0;34m(\u001b[0m\u001b[0;34m)\u001b[0m\u001b[0;34m)\u001b[0m\u001b[0;34m)\u001b[0m\u001b[0;34m\u001b[0m\u001b[0;34m\u001b[0m\u001b[0m\n\u001b[1;32m     19\u001b[0m     \u001b[0mtop_grp\u001b[0m \u001b[0;34m=\u001b[0m \u001b[0mmax\u001b[0m\u001b[0;34m(\u001b[0m\u001b[0mpagerank\u001b[0m\u001b[0;34m.\u001b[0m\u001b[0mitems\u001b[0m\u001b[0;34m(\u001b[0m\u001b[0;34m)\u001b[0m\u001b[0;34m,\u001b[0m \u001b[0mkey\u001b[0m\u001b[0;34m=\u001b[0m\u001b[0mitemgetter\u001b[0m\u001b[0;34m(\u001b[0m\u001b[0;36m1\u001b[0m\u001b[0;34m)\u001b[0m\u001b[0;34m)\u001b[0m\u001b[0;34m[\u001b[0m\u001b[0;36m0\u001b[0m\u001b[0;34m]\u001b[0m\u001b[0;34m\u001b[0m\u001b[0;34m\u001b[0m\u001b[0m\n",
      "\u001b[0;32m<decorator-gen-433>\u001b[0m in \u001b[0;36mpagerank\u001b[0;34m(G, alpha, personalization, max_iter, tol, nstart, weight, dangling)\u001b[0m\n",
      "\u001b[0;32m/opt/anaconda3/lib/python3.7/site-packages/networkx/utils/decorators.py\u001b[0m in \u001b[0;36m_not_implemented_for\u001b[0;34m(not_implement_for_func, *args, **kwargs)\u001b[0m\n\u001b[1;32m     80\u001b[0m             \u001b[0;32mraise\u001b[0m \u001b[0mnx\u001b[0m\u001b[0;34m.\u001b[0m\u001b[0mNetworkXNotImplemented\u001b[0m\u001b[0;34m(\u001b[0m\u001b[0mmsg\u001b[0m\u001b[0;34m)\u001b[0m\u001b[0;34m\u001b[0m\u001b[0;34m\u001b[0m\u001b[0m\n\u001b[1;32m     81\u001b[0m         \u001b[0;32melse\u001b[0m\u001b[0;34m:\u001b[0m\u001b[0;34m\u001b[0m\u001b[0;34m\u001b[0m\u001b[0m\n\u001b[0;32m---> 82\u001b[0;31m             \u001b[0;32mreturn\u001b[0m \u001b[0mnot_implement_for_func\u001b[0m\u001b[0;34m(\u001b[0m\u001b[0;34m*\u001b[0m\u001b[0margs\u001b[0m\u001b[0;34m,\u001b[0m \u001b[0;34m**\u001b[0m\u001b[0mkwargs\u001b[0m\u001b[0;34m)\u001b[0m\u001b[0;34m\u001b[0m\u001b[0;34m\u001b[0m\u001b[0m\n\u001b[0m\u001b[1;32m     83\u001b[0m     \u001b[0;32mreturn\u001b[0m \u001b[0m_not_implemented_for\u001b[0m\u001b[0;34m\u001b[0m\u001b[0;34m\u001b[0m\u001b[0m\n\u001b[1;32m     84\u001b[0m \u001b[0;34m\u001b[0m\u001b[0m\n",
      "\u001b[0;32m/opt/anaconda3/lib/python3.7/site-packages/networkx/algorithms/link_analysis/pagerank_alg.py\u001b[0m in \u001b[0;36mpagerank\u001b[0;34m(G, alpha, personalization, max_iter, tol, nstart, weight, dangling)\u001b[0m\n\u001b[1;32m    156\u001b[0m         \u001b[0;32mif\u001b[0m \u001b[0merr\u001b[0m \u001b[0;34m<\u001b[0m \u001b[0mN\u001b[0m \u001b[0;34m*\u001b[0m \u001b[0mtol\u001b[0m\u001b[0;34m:\u001b[0m\u001b[0;34m\u001b[0m\u001b[0;34m\u001b[0m\u001b[0m\n\u001b[1;32m    157\u001b[0m             \u001b[0;32mreturn\u001b[0m \u001b[0mx\u001b[0m\u001b[0;34m\u001b[0m\u001b[0;34m\u001b[0m\u001b[0m\n\u001b[0;32m--> 158\u001b[0;31m     \u001b[0;32mraise\u001b[0m \u001b[0mnx\u001b[0m\u001b[0;34m.\u001b[0m\u001b[0mPowerIterationFailedConvergence\u001b[0m\u001b[0;34m(\u001b[0m\u001b[0mmax_iter\u001b[0m\u001b[0;34m)\u001b[0m\u001b[0;34m\u001b[0m\u001b[0;34m\u001b[0m\u001b[0m\n\u001b[0m\u001b[1;32m    159\u001b[0m \u001b[0;34m\u001b[0m\u001b[0m\n\u001b[1;32m    160\u001b[0m \u001b[0;34m\u001b[0m\u001b[0m\n",
      "\u001b[0;31mPowerIterationFailedConvergence\u001b[0m: (PowerIterationFailedConvergence(...), 'power iteration failed to converge within 100 iterations')"
     ]
    }
   ],
   "source": [
    "#토픽별 네트워크 -> 대표기사 출력\n",
    "import networkx as nx\n",
    "from operator import itemgetter\n",
    "top_list = []\n",
    "pagerank_list=[]\n",
    "\n",
    "for m in range(0, grp_n):\n",
    "    similarity = similarity_matrix(topic_vec[m])\n",
    "    dg = nx.Graph()\n",
    "    dg.add_nodes_from(topic_set[m])\n",
    "\n",
    "    for i in range(0, len(similarity)):\n",
    "        for j in range(i, len(similarity)):\n",
    "            #print(i, j)\n",
    "            dg.add_edge(topic_set[m][i], topic_set[m][j], weight = similarity[i][j])\n",
    "            \n",
    "    pagerank = nx.pagerank(dg)\n",
    "    pagerank_list.append(list(pagerank.keys()))\n",
    "    top_grp = max(pagerank.items(), key=itemgetter(1))[0]\n",
    "    top_list.append(top_grp)\n",
    "    #draw_graph(dg)\n",
    "len(top_list)"
   ]
  },
  {
   "cell_type": "code",
   "execution_count": 52,
   "metadata": {},
   "outputs": [
    {
     "data": {
      "text/plain": [
       "[]"
      ]
     },
     "execution_count": 52,
     "metadata": {},
     "output_type": "execute_result"
    }
   ],
   "source": [
    "top_list= sorted(top_list, reverse=True)\n",
    "top_list"
   ]
  },
  {
   "cell_type": "code",
   "execution_count": 53,
   "metadata": {},
   "outputs": [],
   "source": [
    "#대표기사 출력\n",
    "for i in range(0, len(top_list)):\n",
    "    print(\"------------------------------------------------------\")\n",
    "    print(\"그룹 \" + str(i) + \" 의 대표기사\")\n",
    "    print(keyword['title'][top_list[i]])"
   ]
  },
  {
   "cell_type": "code",
   "execution_count": 170,
   "metadata": {},
   "outputs": [],
   "source": [
    "from gensim.summarization.summarizer import summarize\n",
    "from newspaper import Article\n",
    "from konlpy.tag import Kkma\n",
    "from konlpy.tag import Twitter\n",
    "from sklearn.feature_extraction.text import TfidfVectorizer\n",
    "from sklearn.feature_extraction.text import CountVectorizer\n",
    "from sklearn.preprocessing import normalize\n",
    "import numpy as np"
   ]
  },
  {
   "cell_type": "code",
   "execution_count": 171,
   "metadata": {},
   "outputs": [],
   "source": [
    "from konlpy.tag import Kkma\n",
    "from konlpy.tag import Twitter\n",
    "from sklearn.feature_extraction.text import TfidfVectorizer\n",
    "from sklearn.feature_extraction.text import CountVectorizer\n",
    "from sklearn.preprocessing import normalize\n",
    "import numpy as np\n",
    "\n",
    "\n",
    "class SentenceTokenizer(object):\n",
    "    def __init__(self):\n",
    "        self.kkma = Kkma()\n",
    "        self.twitter = Twitter()\n",
    "        self.stopwords = ['중인' ,'만큼', '마찬가지', '꼬집었', \"연합뉴스\", \"데일리\", \"동아일보\", \"중앙일보\", \"조선일보\", \"기자\"\n",
    "        ,\"아\", \"휴\", \"아이구\", \"아이쿠\", \"아이고\", \"어\", \"나\", \"우리\", \"저희\", \"따라\", \"의해\", \"을\", \"를\", \"에\", \"의\", \"가\",'뉴시스', '▼','연합 뉴스', '[', '국내에서만', '사용가능', '재배포', '금지', 'For', 'Use', 'Only', 'in', 'the', 'Republic', 'of', 'Korea', 'No', 'Redistribution', ']', '조선중앙통신=연합뉴스']\n",
    "        \n",
    "    def url2sentences(self, text):\n",
    "        sentences = self.kkma.sentences(text)\n",
    "        \n",
    "        for idx in range(0, len(sentences)):\n",
    "            if len(sentences[idx]) <= 10:\n",
    "                sentences[idx-1] += (' ' + sentences[idx])\n",
    "                sentences[idx] = ''\n",
    "        \n",
    "        return sentences\n",
    "    \n",
    "    def text2sentences(self, text):\n",
    "        sentences = self.kkma.sentences(text)\n",
    "        for idx in range(0, len(sentences)):\n",
    "            if len(sentences[idx]) <= 10:\n",
    "                sentences[idx-1] += (' ' + sentences[idx])\n",
    "                sentences[idx] = ''\n",
    "        return sentences\n",
    "    \n",
    "    def get_nouns(self, sentences):\n",
    "        nouns = []\n",
    "        for sentence in sentences:\n",
    "            if sentence is not '':\n",
    "                nouns.append(' '.join([noun for noun in self.twitter.nouns(str(sentence))\n",
    "                                       if noun not in self.stopwords and len(noun) > 1]))\n",
    "        return nouns\n",
    "    \n",
    "    \n",
    "class GraphMatrix(object):\n",
    "    def __init__(self):\n",
    "        self.tfidf = TfidfVectorizer()\n",
    "        self.cnt_vec = CountVectorizer()\n",
    "        self.graph_sentence = []\n",
    "        \n",
    "    def build_sent_graph(self, sentence):\n",
    "        tfidf_mat = self.tfidf.fit_transform(sentence).toarray()\n",
    "        self.graph_sentence = np.dot(tfidf_mat, tfidf_mat.T)\n",
    "        return self.graph_sentence\n",
    "    \n",
    "    def build_words_graph(self, sentence):\n",
    "        cnt_vec_mat = normalize(self.cnt_vec.fit_transform(sentence).toarray().astype(float), axis=0)\n",
    "        vocab = self.cnt_vec.vocabulary_\n",
    "        return np.dot(cnt_vec_mat.T, cnt_vec_mat), {vocab[word] : word for word in vocab}\n",
    "    \n",
    "    \n",
    "class Rank(object):\n",
    "    def get_ranks(self, graph, d=0.85): # d = damping factor\n",
    "        A = graph\n",
    "        matrix_size = A.shape[0]\n",
    "        for id in range(matrix_size):\n",
    "            A[id, id] = 0 # diagonal 부분을 0으로\n",
    "            link_sum = np.sum(A[:,id]) # A[:, id] = A[:][id]\n",
    "            if link_sum != 0:\n",
    "                A[:, id] /= link_sum\n",
    "            A[:, id] *= -d\n",
    "            A[id, id] = 1\n",
    "        B = (1-d) * np.ones((matrix_size, 1))\n",
    "        ranks = np.linalg.solve(A, B) # 연립방정식 Ax = b\n",
    "        return {idx: r[0] for idx, r in enumerate(ranks)}\n",
    "    \n",
    "\n",
    "class TextRank(object):\n",
    "    def __init__(self, text):\n",
    "        self.sent_tokenize = SentenceTokenizer()\n",
    "        \n",
    "        if text[:5] in ('http:', 'https'):\n",
    "            self.sentences = self.sent_tokenize.url2sentences(text)\n",
    "        else:\n",
    "            self.sentences = self.sent_tokenize.text2sentences(text)\n",
    "            \n",
    "        self.nouns = self.sent_tokenize.get_nouns(self.sentences)\n",
    "        self.graph_matrix = GraphMatrix()\n",
    "        self.sent_graph = self.graph_matrix.build_sent_graph(self.nouns)\n",
    "        self.words_graph, self.idx2word = self.graph_matrix.build_words_graph(self.nouns)\n",
    "        self.rank = Rank()\n",
    "        self.sent_rank_idx = self.rank.get_ranks(self.sent_graph)\n",
    "        self.sorted_sent_rank_idx = sorted(self.sent_rank_idx, key=lambda k: self.sent_rank_idx[k], reverse=True)\n",
    "        self.word_rank_idx = self.rank.get_ranks(self.words_graph)\n",
    "        self.sorted_word_rank_idx = sorted(self.word_rank_idx, key=lambda k: self.word_rank_idx[k], reverse=True)\n",
    "        \n",
    "    def summarize(self, sent_num=3):\n",
    "        summary = []\n",
    "        index=[]\n",
    "        for idx in self.sorted_sent_rank_idx[:sent_num]:\n",
    "            index.append(idx)\n",
    "            index.sort()\n",
    "        for idx in index:\n",
    "            summary.append(self.sentences[idx])\n",
    "            \n",
    "        return summary\n",
    "    \n",
    "    def keywords(self, word_num=10):\n",
    "        rank = Rank()\n",
    "        rank_idx = rank.get_ranks(self.words_graph)\n",
    "        sorted_rank_idx = sorted(rank_idx, key=lambda k: rank_idx[k], reverse=True)\n",
    "        keywords = []\n",
    "        index=[]\n",
    "        for idx in sorted_rank_idx[:word_num]:\n",
    "            index.append(idx)\n",
    "        #index.sort()\n",
    "        for idx in index:\n",
    "            keywords.append(self.idx2word[idx])\n",
    "        return keywords"
   ]
  },
  {
   "cell_type": "code",
   "execution_count": 172,
   "metadata": {},
   "outputs": [
    {
     "name": "stderr",
     "output_type": "stream",
     "text": [
      "/opt/anaconda3/lib/python3.7/site-packages/konlpy/tag/_okt.py:16: UserWarning: \"Twitter\" has changed to \"Okt\" since KoNLPy v0.4.5.\n",
      "  warn('\"Twitter\" has changed to \"Okt\" since KoNLPy v0.4.5.')\n"
     ]
    },
    {
     "name": "stdout",
     "output_type": "stream",
     "text": [
      "[' 김정은 북한 국무위원장의 건강이상설이 좀처럼 가라앉지 않는 가운데 미국 정부 당국은 김 위원장의 신변에 관한 무성한 소문이 \"추측에 불과하다\"는 입장을 재확인했다.', ' 미 국방부의 한 고위 관리는 25일( 현지시간) 시사 주간지 뉴스 위크에 \" 우리는 북한 지도부 상황이나 김 위원장의 건강에 관해 결론적인 평가를 내릴 만한 어떠한 추가 정보도 얻지 못했고, 그러한 조짐을 보지도 못했다\" 고 말했다.', 'AP 통신도 익명을 요청한 한 미국 정부 관리가 김 위원장의 건강에 관해 최근 추가로 나오는 루머들도 \" 그러한 정보가 추측에 불과 하다는 미국의 평가를 바꾸지 못했다\" 고 말했다고 전했다.', '블룸 버그 통신은 해외 친북단체인 조선 친선협회의 알 레한 드로 카 오 데 베 노 스 회장이 협회가 북한으로부터 김 위원 장의 중태 설을 반박하는 공식 정보를 받았다고 밝혔다고 보도했다.', '다만 김 위원장 건강 이상설을 완전히 사실무근으로 무시할 수는 없다는 지적도 제기된다.']\n"
     ]
    },
    {
     "name": "stderr",
     "output_type": "stream",
     "text": [
      "/opt/anaconda3/lib/python3.7/site-packages/konlpy/tag/_okt.py:16: UserWarning: \"Twitter\" has changed to \"Okt\" since KoNLPy v0.4.5.\n",
      "  warn('\"Twitter\" has changed to \"Okt\" since KoNLPy v0.4.5.')\n"
     ]
    },
    {
     "name": "stdout",
     "output_type": "stream",
     "text": [
      "[' 도널드 트럼프 미국 대통령은 27일(현지시간) 김정은 북한 국무위원장의 건강 이상설과 관련, 김 위원장이 어떻게 지내는지 알고 있지만 말할 수 없다고 밝혔다.', ' 외신에 따르면 트럼프 대통령은 이날 백악관 로즈 가든에서 연 기자회견에서 김 위원장의 건강과 관련해 새로운 정보가 있느냐김 위원장의 신변에 관한 추측이 난무하는 가운데 트럼프 대통령이 이같이 언급함에 따라 조만간 김 위원장 관련 소식이 전해 질지 주목된다.', '트럼프 대통령은 김 위원장과의 관계와 관련, \" 나는 단지 그가 잘 있기를 바란다 \"며 김 위원장과 아주 좋은 관계를 유지해 왔고 자신이 대통령이 아니었다면 북한과 전쟁을 했을 것이라면서 기존에 해 왔던 얘기를 다시 언급했다.', '트럼프 대통령은 또 김 위원장의 행방에 대해 선 \" 아무도 그가 어디에 있는지 모른다\" 고 말했다.', '앞서 트럼프 대통령은 지난 21일 백악관 브리핑에선 건강 이상설에 대해 \" 모른다\" 고 했지만, 이틀 뒤인 23일 브리핑에선 김 위원장이 수술 후 심각한 위험에 놓여 있다는 첩보를 미 당국이 주시하고 있다는 CNN 보도에 대해 \" 부정확하다\" 고 밝힌 바 있다.']\n"
     ]
    },
    {
     "name": "stderr",
     "output_type": "stream",
     "text": [
      "/opt/anaconda3/lib/python3.7/site-packages/konlpy/tag/_okt.py:16: UserWarning: \"Twitter\" has changed to \"Okt\" since KoNLPy v0.4.5.\n",
      "  warn('\"Twitter\" has changed to \"Okt\" since KoNLPy v0.4.5.')\n"
     ]
    },
    {
     "name": "stdout",
     "output_type": "stream",
     "text": [
      "[' 미국 언론들이 위성 사진을 토대로 김정은 북한 국무위원장이 강원도 원산에 머물고 있다고 추정하는 보도를 잇달아 내놓고 있다.', ' 김 위원장 전용으로 추정되는 열차가 원산 별장 인근에 정차된 모습이 포착된 데 이어 별장의 레저 선들이 이달 들어 꾸준히 운항하고 있다는 보도가 나왔다.', '미국 NK 뉴스는 28일( 현지시간) 김 위원장의 원산 별장 인근 위성사진을 분석해 \" 김 위원장이 원산 해안에서 종종 사용한 배들이 이달 내내 가동되고 있다 \"며 \" 김 위원장의 호화선 움직임은 그가 원산에 있을 수 있다는 점을 시사한다 \"라고 보도했다.', '일례로 지난달 30일과 이달 2일 사이에 원산과 인근 섬인 대도( 島) 사이를 오가는 55m 의 레저 선이 별장의 정 박시설에 위치한 모습이 위성에 찍힌 뒤 지난 27일까지 그곳에 있는 것으로 나타났다.', 'NK 뉴스는 수년 간 김 위원장의 출현과 배의 움직임 간 높은 상관관계가 있었음을 고려 하면 별장과 섬에서의 이런 활동은 이번 달, 심지어 지난 2 주간에도 김 위원장과 측근들이 배를 이용했음을 강하게 시사한다고 평가했다.', '북한은 지난 14일 오전 문 천 일대에서 발사체 수 발을 발사했고, 우리 군은 이를 지대함으로 추정되는 순항 미사일이라고 판단했다.']\n"
     ]
    },
    {
     "name": "stderr",
     "output_type": "stream",
     "text": [
      "/opt/anaconda3/lib/python3.7/site-packages/konlpy/tag/_okt.py:16: UserWarning: \"Twitter\" has changed to \"Okt\" since KoNLPy v0.4.5.\n",
      "  warn('\"Twitter\" has changed to \"Okt\" since KoNLPy v0.4.5.')\n"
     ]
    },
    {
     "name": "stdout",
     "output_type": "stream",
     "text": [
      "[\" '과연 누가 김정은의 뒤를 이을 것인가?'\\n북한 김정은 국무위원장을 둘러싼 건강 이상설이 가라앉을 기미를 보이지 않으면서 외신들이 연일 후계자에 주목하는 기사를 쏟아내고 있다.\", \" 북한에서는 오직 ' 백두 혈통' 만이 권좌에 오를 수 있기에 김 위원장의 동생 김 여정 북한 노동당 제 1 부부장이 집중적인 조명을 받고 있다.\", '그렇다면 남는 선택지는 김 여정뿐이라는 것. 김 여정이 최근 들어 북한에서 정치적인 영향력을 키워 나가고 있다는 점도 이러한 추측을 뒷받침해 준다고 WSJ은 설명했다.', '다만, 김 여정이 여성이기 때문에 북한 최고 통치자 자리에 오를 수 없다는 목소리도 있다.', '더 그 밴도 우 미국 케이 토연구소 선임연구원은 이날 외교전문매체 포 린 폴리시에 기고한 글에서 정치 세력 중 남성들이 압도적으로 많고 뿌리 깊은 가부 장제 사회인 북한에서 김 여정이 김 위원장 자리를 승계할 가능성이 \" 희박하다\" 고 진단했다.']\n"
     ]
    },
    {
     "name": "stderr",
     "output_type": "stream",
     "text": [
      "/opt/anaconda3/lib/python3.7/site-packages/konlpy/tag/_okt.py:16: UserWarning: \"Twitter\" has changed to \"Okt\" since KoNLPy v0.4.5.\n",
      "  warn('\"Twitter\" has changed to \"Okt\" since KoNLPy v0.4.5.')\n"
     ]
    },
    {
     "name": "stdout",
     "output_type": "stream",
     "text": [
      "[\" '과연 누가 김정은의 뒤를 이을 것인가?'\\n북한 김정은 국무위원장을 둘러싼 건강 이상설이 가라앉을 기미를 보이지 않으면서 외신들이 연일 후계자에 주목하는 기사를 쏟아내고 있다.\", \" 북한에서는 오직 ' 백두 혈통' 만이 권좌에 오를 수 있기에 김 위원장의 동생 김 여정 북한 노동당 제 1 부부장이 집중적인 조명을 받고 있다.\", '그렇다면 남는 선택지는 김 여정뿐이라는 것. 김 여정이 최근 들어 북한에서 정치적인 영향력을 키워 나가고 있다는 점도 이러한 추측을 뒷받침해 준다고 WSJ은 설명했다.', '다만, 김 여정이 여성이기 때문에 북한 최고 통치자 자리에 오를 수 없다는 목소리도 있다.', '더 그 밴도 우 미국 케이 토연구소 선임연구원은 이날 외교전문매체 포 린 폴리시에 기고한 글에서 정치 세력 중 남성들이 압도적으로 많고 뿌리 깊은 가부 장제 사회인 북한에서 김 여정이 김 위원장 자리를 승계할 가능성이 \" 희박하다\" 고 진단했다.']\n"
     ]
    },
    {
     "name": "stderr",
     "output_type": "stream",
     "text": [
      "/opt/anaconda3/lib/python3.7/site-packages/konlpy/tag/_okt.py:16: UserWarning: \"Twitter\" has changed to \"Okt\" since KoNLPy v0.4.5.\n",
      "  warn('\"Twitter\" has changed to \"Okt\" since KoNLPy v0.4.5.')\n"
     ]
    },
    {
     "name": "stdout",
     "output_type": "stream",
     "text": [
      "[\" '건강이상설'이 제기된 김정은 북한 국무위원장과 관련해 북한 매체는 1일에도 특별한 동향을 내놓지 않았다.\", \" 노동당 기관지 노동신문은 이날 1 면에 김 위원장이 당 선전원· 선동원들에게 ' 감사 '를 보냈다고 보도했다.\", '주로 업무에서 성과를 낸 하급 간부나 일반 노동자들에게 주어진다.', '신문은 \" 당원들과 근로자들을 참다운 김일성- 김정일주의자로 튼튼히 준비시키며 단위의 과학기술발전을 추동하기 위한 선전선 동과 해설 사업을 다양한 형식과 방법으로 실 속 있게 벌였다\" 고 평가했다.', '이 날 1 면에 보도했다.', '아 사드 대통령은 \" 두 나라 사이의 관계가 모든 분야에 걸쳐 더욱 강화 발전 되리라는 확신을 표명한다\" 고 전했다.']\n"
     ]
    },
    {
     "name": "stderr",
     "output_type": "stream",
     "text": [
      "/opt/anaconda3/lib/python3.7/site-packages/konlpy/tag/_okt.py:16: UserWarning: \"Twitter\" has changed to \"Okt\" since KoNLPy v0.4.5.\n",
      "  warn('\"Twitter\" has changed to \"Okt\" since KoNLPy v0.4.5.')\n"
     ]
    },
    {
     "name": "stdout",
     "output_type": "stream",
     "text": [
      "[' 사망설에 휩싸였던 북한 김정은 국무위원장이 20일 만에 공개활동을 재개하며 건재함을 과시했다.', ' 전날 평안 남도 순천인 비료공장 준공식에 참석했다고 보도했다.', '그러나 김 위원장은 이번 준공식 참석을 통해 그동안 제기되던 건강 이상설을 불식할 것으로 보인다.', '방송은 \" 환영곡이 울리는 가운데 경애하는 최고 영도자 김 정은 동지께서 준공 식장에 나오셨고, 몸소 준공 테이프를 끊으셨다\" 고도 했다.', '분위기가 달아오르자 김 위원장은 \" 열광의 환호를 울리는 건설자들과 군중에게 따뜻이 손 저어 답례를 보내셨다\" 고도 전했다.', '한편 순천인 비료공장은 김 위원장이 지난 1월 7일( 보도 일 기준) 올해 들어 첫 현지지도 장소로 찾았던 곳이다.']\n"
     ]
    },
    {
     "name": "stderr",
     "output_type": "stream",
     "text": [
      "/opt/anaconda3/lib/python3.7/site-packages/konlpy/tag/_okt.py:16: UserWarning: \"Twitter\" has changed to \"Okt\" since KoNLPy v0.4.5.\n",
      "  warn('\"Twitter\" has changed to \"Okt\" since KoNLPy v0.4.5.')\n"
     ]
    },
    {
     "name": "stdout",
     "output_type": "stream",
     "text": [
      "[' 김정은 북한 국무위원장이 4월 중순 가까이에\\n있는 부하들이 발열 증세를 겪은 것을 알게 된 뒤 원산에 가 있었던 것으로 한미 당국자들이 믿고 있다고 워싱턴포스트(WP)가 1일(현지시간) 관련 상황에 대해 정통한 2명의 인사를 인용해 보도했다.', ' 즉 김 위원장이 이렇다 할 설명 없이 자취를 감췄던 것도 그의 주변에 있는 인사들이 그 질병에 걸렸을 수 있다는 우려를 인정하는 상황을 피하기 위한 것이었을 수 있다고 WP는 보도했다.', '이와 함께 한미 당국자들은 신호정보( 시 긴트) 가 어떠한 특이한 통신 상의 증가도 평양에서 발생하지 않았음을 나타낸 뒤 김 위원장이 사망했다는 루머에 대해 회의적이었다고이 상황에 대해 정통한 인사들을 인용해 WP가 전했다.', '정찰자산 등을 통해 김 위원장의 신변에 특이 사항이 없다는 정보를 파악하고 사망설 등에 무게를 두지 않았다는 뜻으로 보인다.']\n"
     ]
    },
    {
     "name": "stderr",
     "output_type": "stream",
     "text": [
      "/opt/anaconda3/lib/python3.7/site-packages/konlpy/tag/_okt.py:16: UserWarning: \"Twitter\" has changed to \"Okt\" since KoNLPy v0.4.5.\n",
      "  warn('\"Twitter\" has changed to \"Okt\" since KoNLPy v0.4.5.')\n"
     ]
    },
    {
     "name": "stdout",
     "output_type": "stream",
     "text": [
      "[' 김정은 북한 국무위원장이 4월 중순 가까이에\\n있는 부하들이 발열 증세를 겪은 것을 알게 된 뒤 원산에 가 있었던 것으로 한미 당국자들이 믿고 있다고 워싱턴포스트(WP)가 1일(현지시간) 관련 상황에 대해 정통한 2명의 인사를 인용해 보도했다.', ' 즉 김 위원장이 이렇다 할 설명 없이 자취를 감췄던 것도 그의 주변에 있는 인사들이 그 질병에 걸렸을 수 있다는 우려를 인정하는 상황을 피하기 위한 것이었을 수 있다고 WP는 보도했다.', '이와 함께 한미 당국자들은 신호정보( 시 긴트) 가 어떠한 특이한 통신 상의 증가도 평양에서 발생하지 않았음을 나타낸 뒤 김 위원장이 사망했다는 루머에 대해 회의적이었다고이 상황에 대해 정통한 인사들을 인용해 WP가 전했다.', '정찰자산 등을 통해 김 위원장의 신변에 특이 사항이 없다는 정보를 파악하고 사망설 등에 무게를 두지 않았다는 뜻으로 보인다.']\n"
     ]
    }
   ],
   "source": [
    "total_dict = {}\n",
    "from nltk.corpus import stopwords \n",
    "from nltk.tokenize import word_tokenize \n",
    "\n",
    "for i in range(0, grp_n) :\n",
    "    total_dict['grp_'+str(i)] = {}\n",
    "    total_dict['grp_'+str(i)]['top_id'] = top_list[i]\n",
    "    total_dict['grp_'+str(i)]['title'] = keyword['title'][top_list[i]]\n",
    "    \n",
    "    text = keyword['news_text'][top_list[i]]\n",
    "    # 기자 = 부분 지우고 \n",
    "    if '기자 =' in text:\n",
    "        txt = text.split('기자 =')\n",
    "        txt = txt[len(txt)-1:]\n",
    "    elif '특파원 =' in text:\n",
    "        txt = text.split('특파원 =')\n",
    "        txt = txt[len(txt)-1:]\n",
    "    \n",
    "    #첫 문장은 무조건 포함하기 \n",
    "    first_sentence = txt[0].split('.')[0]\n",
    "    sentence = txt[0].split('.')[1:]\n",
    "    sentence = \".\".join(sentence)\n",
    "    \n",
    "    \n",
    "    #print(sentence)\n",
    "    textrank = TextRank(sentence) \n",
    "    textrank = textrank.summarize(5)\n",
    "    s_text = \"\".join(textrank)\n",
    "    #print(\"s : \", first_sentence + s_text)\n",
    "    \n",
    "    #s_text = summarize(s_text, word_count = 80)\n",
    "\n",
    "    #불용어 제거\n",
    "    #stop_words = '뉴시스', '▼','연합 뉴스', '[', '국내에서만', '사용가능', '재배포', '금지', 'For', 'Use', 'Only', 'in', 'the', 'Republic', 'of', 'Korea', 'No', 'Redistribution', ']', '조선중앙통신=연합뉴스'\n",
    "    # 위의 불용어는 명사가 아닌 단어 중에서 저자가 임의로 선정한 것으로 실제 의미있는 선정 기준이 아님\n",
    "    #stop_words=stop_words.split(' ')\n",
    "    #word_tokens = word_tokenize(s_text)\n",
    "\n",
    "    #result = []  \n",
    "    #result=[word for word in word_tokens if not word in stop_words]\n",
    "    #result = \" \".join(result)\n",
    "    #print(word_tokens) \n",
    "    #print(result)\n",
    "\n",
    "    #요약기\n",
    "    #s_text = summarize( result, word_count = 100)\n",
    "    s_text = first_sentence+'. '+ s_text\n",
    "\n",
    "    #s_text = \"\".join(s_text)\n",
    "    s_text = s_text.split(\"다.\")\n",
    "    s_text = s_text[:len(s_text)-1]\n",
    "    for k in range(0, len(s_text)):\n",
    "        s_text[k] = s_text[k] + \"다.\"\n",
    "    print(s_text)\n",
    "    total_dict['grp_'+str(i)]['top_article'] = s_text    \n",
    "    for j in range(0, grp_n) :\n",
    "        if top_list[i] in pagerank_list[j]:\n",
    "            total_dict['grp_'+str(i)]['grp_id_list'] = pagerank_list[j]"
   ]
  },
  {
   "cell_type": "code",
   "execution_count": 173,
   "metadata": {},
   "outputs": [
    {
     "name": "stdout",
     "output_type": "stream",
     "text": [
      "{'top_id': 88, 'title': '계속되는 \\'김정은 미스터리\\'에 미국 정부당국자 \"추측에 불과\"', 'top_article': [' 김정은 북한 국무위원장의 건강이상설이 좀처럼 가라앉지 않는 가운데 미국 정부 당국은 김 위원장의 신변에 관한 무성한 소문이 \"추측에 불과하다\"는 입장을 재확인했다.', ' 미 국방부의 한 고위 관리는 25일( 현지시간) 시사 주간지 뉴스 위크에 \" 우리는 북한 지도부 상황이나 김 위원장의 건강에 관해 결론적인 평가를 내릴 만한 어떠한 추가 정보도 얻지 못했고, 그러한 조짐을 보지도 못했다\" 고 말했다.', 'AP 통신도 익명을 요청한 한 미국 정부 관리가 김 위원장의 건강에 관해 최근 추가로 나오는 루머들도 \" 그러한 정보가 추측에 불과 하다는 미국의 평가를 바꾸지 못했다\" 고 말했다고 전했다.', '블룸 버그 통신은 해외 친북단체인 조선 친선협회의 알 레한 드로 카 오 데 베 노 스 회장이 협회가 북한으로부터 김 위원 장의 중태 설을 반박하는 공식 정보를 받았다고 밝혔다고 보도했다.', '다만 김 위원장 건강 이상설을 완전히 사실무근으로 무시할 수는 없다는 지적도 제기된다.'], 'grp_id_list': [18, 23, 87, 88, 116, 126]}\n",
      "{'top_id': 75, 'title': '트럼프 \"김정은 어떤지 알지만 말할수 없어..머지않아 들을 것\"(종합2보)', 'top_article': [' 도널드 트럼프 미국 대통령은 27일(현지시간) 김정은 북한 국무위원장의 건강 이상설과 관련, 김 위원장이 어떻게 지내는지 알고 있지만 말할 수 없다고 밝혔다.', ' 외신에 따르면 트럼프 대통령은 이날 백악관 로즈 가든에서 연 기자회견에서 김 위원장의 건강과 관련해 새로운 정보가 있느냐김 위원장의 신변에 관한 추측이 난무하는 가운데 트럼프 대통령이 이같이 언급함에 따라 조만간 김 위원장 관련 소식이 전해 질지 주목된다.', '트럼프 대통령은 김 위원장과의 관계와 관련, \" 나는 단지 그가 잘 있기를 바란다 \"며 김 위원장과 아주 좋은 관계를 유지해 왔고 자신이 대통령이 아니었다면 북한과 전쟁을 했을 것이라면서 기존에 해 왔던 얘기를 다시 언급했다.', '트럼프 대통령은 또 김 위원장의 행방에 대해 선 \" 아무도 그가 어디에 있는지 모른다\" 고 말했다.', '앞서 트럼프 대통령은 지난 21일 백악관 브리핑에선 건강 이상설에 대해 \" 모른다\" 고 했지만, 이틀 뒤인 23일 브리핑에선 김 위원장이 수술 후 심각한 위험에 놓여 있다는 첩보를 미 당국이 주시하고 있다는 CNN 보도에 대해 \" 부정확하다\" 고 밝힌 바 있다.'], 'grp_id_list': [0, 27, 29, 48, 51, 54, 55, 64, 67, 68, 69, 70, 71, 72, 75, 76, 81, 83, 93, 98, 100, 110, 111, 112, 113, 114, 119, 124, 125, 128, 129, 130, 134, 137, 141, 149]}\n",
      "{'top_id': 62, 'title': '미국 NK뉴스 \"김정은 레저선 움직임, 원산 별장 체류 시사\"', 'top_article': [' 미국 언론들이 위성 사진을 토대로 김정은 북한 국무위원장이 강원도 원산에 머물고 있다고 추정하는 보도를 잇달아 내놓고 있다.', ' 김 위원장 전용으로 추정되는 열차가 원산 별장 인근에 정차된 모습이 포착된 데 이어 별장의 레저 선들이 이달 들어 꾸준히 운항하고 있다는 보도가 나왔다.', '미국 NK 뉴스는 28일( 현지시간) 김 위원장의 원산 별장 인근 위성사진을 분석해 \" 김 위원장이 원산 해안에서 종종 사용한 배들이 이달 내내 가동되고 있다 \"며 \" 김 위원장의 호화선 움직임은 그가 원산에 있을 수 있다는 점을 시사한다 \"라고 보도했다.', '일례로 지난달 30일과 이달 2일 사이에 원산과 인근 섬인 대도( 島) 사이를 오가는 55m 의 레저 선이 별장의 정 박시설에 위치한 모습이 위성에 찍힌 뒤 지난 27일까지 그곳에 있는 것으로 나타났다.', 'NK 뉴스는 수년 간 김 위원장의 출현과 배의 움직임 간 높은 상관관계가 있었음을 고려 하면 별장과 섬에서의 이런 활동은 이번 달, 심지어 지난 2 주간에도 김 위원장과 측근들이 배를 이용했음을 강하게 시사한다고 평가했다.', '북한은 지난 14일 오전 문 천 일대에서 발사체 수 발을 발사했고, 우리 군은 이를 지대함으로 추정되는 순항 미사일이라고 판단했다.'], 'grp_id_list': [15, 30, 37, 62, 73, 99]}\n",
      "{'top_id': 52, 'title': '\"김정은 후임은 누구\"..외신들, \\'백두혈통\\' 김여정에 주목', 'top_article': [\" '과연 누가 김정은의 뒤를 이을 것인가?'\\n북한 김정은 국무위원장을 둘러싼 건강 이상설이 가라앉을 기미를 보이지 않으면서 외신들이 연일 후계자에 주목하는 기사를 쏟아내고 있다.\", \" 북한에서는 오직 ' 백두 혈통' 만이 권좌에 오를 수 있기에 김 위원장의 동생 김 여정 북한 노동당 제 1 부부장이 집중적인 조명을 받고 있다.\", '그렇다면 남는 선택지는 김 여정뿐이라는 것. 김 여정이 최근 들어 북한에서 정치적인 영향력을 키워 나가고 있다는 점도 이러한 추측을 뒷받침해 준다고 WSJ은 설명했다.', '다만, 김 여정이 여성이기 때문에 북한 최고 통치자 자리에 오를 수 없다는 목소리도 있다.', '더 그 밴도 우 미국 케이 토연구소 선임연구원은 이날 외교전문매체 포 린 폴리시에 기고한 글에서 정치 세력 중 남성들이 압도적으로 많고 뿌리 깊은 가부 장제 사회인 북한에서 김 여정이 김 위원장 자리를 승계할 가능성이 \" 희박하다\" 고 진단했다.'], 'grp_id_list': [6, 10, 11, 20, 21, 32, 47, 52, 80, 86, 89, 97, 103, 109]}\n",
      "{'top_id': 50, 'title': '[TF기획-김정은 위중설 <중>] 金씨 3대 어떤 방식으로 등장했나?', 'top_article': [\" '과연 누가 김정은의 뒤를 이을 것인가?'\\n북한 김정은 국무위원장을 둘러싼 건강 이상설이 가라앉을 기미를 보이지 않으면서 외신들이 연일 후계자에 주목하는 기사를 쏟아내고 있다.\", \" 북한에서는 오직 ' 백두 혈통' 만이 권좌에 오를 수 있기에 김 위원장의 동생 김 여정 북한 노동당 제 1 부부장이 집중적인 조명을 받고 있다.\", '그렇다면 남는 선택지는 김 여정뿐이라는 것. 김 여정이 최근 들어 북한에서 정치적인 영향력을 키워 나가고 있다는 점도 이러한 추측을 뒷받침해 준다고 WSJ은 설명했다.', '다만, 김 여정이 여성이기 때문에 북한 최고 통치자 자리에 오를 수 없다는 목소리도 있다.', '더 그 밴도 우 미국 케이 토연구소 선임연구원은 이날 외교전문매체 포 린 폴리시에 기고한 글에서 정치 세력 중 남성들이 압도적으로 많고 뿌리 깊은 가부 장제 사회인 북한에서 김 여정이 김 위원장 자리를 승계할 가능성이 \" 희박하다\" 고 진단했다.'], 'grp_id_list': [50, 53, 58, 79, 106, 115, 121, 131]}\n",
      "{'top_id': 46, 'title': \"北 김정은 '잠행' 20일째..공개행보 없이 동정보도만(종합)\", 'top_article': [\" '건강이상설'이 제기된 김정은 북한 국무위원장과 관련해 북한 매체는 1일에도 특별한 동향을 내놓지 않았다.\", \" 노동당 기관지 노동신문은 이날 1 면에 김 위원장이 당 선전원· 선동원들에게 ' 감사 '를 보냈다고 보도했다.\", '주로 업무에서 성과를 낸 하급 간부나 일반 노동자들에게 주어진다.', '신문은 \" 당원들과 근로자들을 참다운 김일성- 김정일주의자로 튼튼히 준비시키며 단위의 과학기술발전을 추동하기 위한 선전선 동과 해설 사업을 다양한 형식과 방법으로 실 속 있게 벌였다\" 고 평가했다.', '이 날 1 면에 보도했다.', '아 사드 대통령은 \" 두 나라 사이의 관계가 모든 분야에 걸쳐 더욱 강화 발전 되리라는 확신을 표명한다\" 고 전했다.'], 'grp_id_list': [3, 9, 12, 13, 14, 25, 39, 43, 45, 46, 59, 74, 90, 91, 92, 95, 96, 104, 107, 132, 138, 139, 144, 145, 146, 148, 150]}\n",
      "{'top_id': 40, 'title': \"'사망설'김정은, 20일만에 공개활동..어제 비료공장 준공식 참석(종합)\", 'top_article': [' 사망설에 휩싸였던 북한 김정은 국무위원장이 20일 만에 공개활동을 재개하며 건재함을 과시했다.', ' 전날 평안 남도 순천인 비료공장 준공식에 참석했다고 보도했다.', '그러나 김 위원장은 이번 준공식 참석을 통해 그동안 제기되던 건강 이상설을 불식할 것으로 보인다.', '방송은 \" 환영곡이 울리는 가운데 경애하는 최고 영도자 김 정은 동지께서 준공 식장에 나오셨고, 몸소 준공 테이프를 끊으셨다\" 고도 했다.', '분위기가 달아오르자 김 위원장은 \" 열광의 환호를 울리는 건설자들과 군중에게 따뜻이 손 저어 답례를 보내셨다\" 고도 전했다.', '한편 순천인 비료공장은 김 위원장이 지난 1월 7일( 보도 일 기준) 올해 들어 첫 현지지도 장소로 찾았던 곳이다.'], 'grp_id_list': [5, 36, 38, 40, 41, 42, 44, 49, 56, 57, 61, 66, 78, 84, 85, 94, 102, 108, 122, 136, 140, 142, 143, 147]}\n",
      "{'top_id': 34, 'title': 'WP \"한미당국 \\'김정은 4월중순 주변인사들 발열에 원산행\\' 파악\"', 'top_article': [' 김정은 북한 국무위원장이 4월 중순 가까이에\\n있는 부하들이 발열 증세를 겪은 것을 알게 된 뒤 원산에 가 있었던 것으로 한미 당국자들이 믿고 있다고 워싱턴포스트(WP)가 1일(현지시간) 관련 상황에 대해 정통한 2명의 인사를 인용해 보도했다.', ' 즉 김 위원장이 이렇다 할 설명 없이 자취를 감췄던 것도 그의 주변에 있는 인사들이 그 질병에 걸렸을 수 있다는 우려를 인정하는 상황을 피하기 위한 것이었을 수 있다고 WP는 보도했다.', '이와 함께 한미 당국자들은 신호정보( 시 긴트) 가 어떠한 특이한 통신 상의 증가도 평양에서 발생하지 않았음을 나타낸 뒤 김 위원장이 사망했다는 루머에 대해 회의적이었다고이 상황에 대해 정통한 인사들을 인용해 WP가 전했다.', '정찰자산 등을 통해 김 위원장의 신변에 특이 사항이 없다는 정보를 파악하고 사망설 등에 무게를 두지 않았다는 뜻으로 보인다.'], 'grp_id_list': [7, 8, 16, 17, 19, 22, 24, 26, 28, 31, 33, 34, 35, 60, 63, 77, 82, 105, 117, 118, 120, 123, 127, 133]}\n",
      "{'top_id': 1, 'title': '국정원 \"김정은, 심장 시술·수술 없었다\" 공식 부인', 'top_article': [' 김정은 북한 국무위원장이 4월 중순 가까이에\\n있는 부하들이 발열 증세를 겪은 것을 알게 된 뒤 원산에 가 있었던 것으로 한미 당국자들이 믿고 있다고 워싱턴포스트(WP)가 1일(현지시간) 관련 상황에 대해 정통한 2명의 인사를 인용해 보도했다.', ' 즉 김 위원장이 이렇다 할 설명 없이 자취를 감췄던 것도 그의 주변에 있는 인사들이 그 질병에 걸렸을 수 있다는 우려를 인정하는 상황을 피하기 위한 것이었을 수 있다고 WP는 보도했다.', '이와 함께 한미 당국자들은 신호정보( 시 긴트) 가 어떠한 특이한 통신 상의 증가도 평양에서 발생하지 않았음을 나타낸 뒤 김 위원장이 사망했다는 루머에 대해 회의적이었다고이 상황에 대해 정통한 인사들을 인용해 WP가 전했다.', '정찰자산 등을 통해 김 위원장의 신변에 특이 사항이 없다는 정보를 파악하고 사망설 등에 무게를 두지 않았다는 뜻으로 보인다.'], 'grp_id_list': [1, 2, 4, 65, 101, 135]}\n"
     ]
    }
   ],
   "source": [
    "for i in range(0, len(total_dict)):\n",
    "    print(total_dict['grp_'+str(i)])"
   ]
  },
  {
   "cell_type": "code",
   "execution_count": 174,
   "metadata": {},
   "outputs": [
    {
     "data": {
      "text/plain": [
       "{'top_id': 52,\n",
       " 'title': '\"김정은 후임은 누구\"..외신들, \\'백두혈통\\' 김여정에 주목',\n",
       " 'top_article': [\" '과연 누가 김정은의 뒤를 이을 것인가?'\\n북한 김정은 국무위원장을 둘러싼 건강 이상설이 가라앉을 기미를 보이지 않으면서 외신들이 연일 후계자에 주목하는 기사를 쏟아내고 있다.\",\n",
       "  \" 북한에서는 오직 ' 백두 혈통' 만이 권좌에 오를 수 있기에 김 위원장의 동생 김 여정 북한 노동당 제 1 부부장이 집중적인 조명을 받고 있다.\",\n",
       "  '그렇다면 남는 선택지는 김 여정뿐이라는 것. 김 여정이 최근 들어 북한에서 정치적인 영향력을 키워 나가고 있다는 점도 이러한 추측을 뒷받침해 준다고 WSJ은 설명했다.',\n",
       "  '다만, 김 여정이 여성이기 때문에 북한 최고 통치자 자리에 오를 수 없다는 목소리도 있다.',\n",
       "  '더 그 밴도 우 미국 케이 토연구소 선임연구원은 이날 외교전문매체 포 린 폴리시에 기고한 글에서 정치 세력 중 남성들이 압도적으로 많고 뿌리 깊은 가부 장제 사회인 북한에서 김 여정이 김 위원장 자리를 승계할 가능성이 \" 희박하다\" 고 진단했다.'],\n",
       " 'grp_id_list': [6, 10, 11, 20, 21, 32, 47, 52, 80, 86, 89, 97, 103, 109]}"
      ]
     },
     "execution_count": 174,
     "metadata": {},
     "output_type": "execute_result"
    }
   ],
   "source": [
    "total_dict['grp_3']"
   ]
  },
  {
   "cell_type": "markdown",
   "metadata": {},
   "source": [
    "* 그룹별 카드뉴스 "
   ]
  },
  {
   "cell_type": "code",
   "execution_count": 176,
   "metadata": {},
   "outputs": [],
   "source": [
    "from PIL import Image, ImageDraw, ImageFont\n",
    "import textwrap\n",
    "import os\n",
    "\n",
    "def createFolder(directory) :\n",
    "    try:\n",
    "        if not os.path.exists(directory):\n",
    "            os.makedirs(directory)\n",
    "    except OSError :\n",
    "        print('Error : Creating directory ' + directory)\n",
    "\n",
    "\n",
    "def draw_multiple_line_text(image, text, font, text_color, text_start_height):\n",
    "    '''\n",
    "    From unutbu on [python PIL draw multiline text on image](https://stackoverflow.com/a/7698300/395857)\n",
    "    '''\n",
    "    draw = ImageDraw.Draw(image)\n",
    "    image_width, image_height = image.size\n",
    "    y_text = text_start_height\n",
    "    lines = textwrap.wrap(text, width=45)\n",
    "    for line in lines:\n",
    "        line_width, line_height = font.getsize(line)\n",
    "        draw.text(((image_width - line_width) / 2, y_text), \n",
    "                  line, font=font, fill=text_color,spacing=20,align='center')\n",
    "        y_text += line_height+10\n",
    "        \n",
    "def draw_title(image, text, font, text_color, text_start_height):\n",
    "    '''\n",
    "    From unutbu on [python PIL draw multiline text on image](https://stackoverflow.com/a/7698300/395857)\n",
    "    '''\n",
    "    draw = ImageDraw.Draw(image)\n",
    "    image_width, image_height = image.size\n",
    "    y_text = text_start_height\n",
    "    lines = textwrap.wrap(text, width=20)\n",
    "    for line in lines:\n",
    "        line_width, line_height = font.getsize(line)\n",
    "        draw.text(((image_width - line_width) / 2, y_text), \n",
    "                  line, font=font, fill=text_color,spacing=20,align='center')\n",
    "        y_text += line_height+10\n",
    "\n",
    "'''\n",
    "def main():\n",
    "\n",
    "    Testing draw_multiple_line_text\n",
    "    '''\n",
    "    \n",
    "for grp in range(0,len(total_dict)) :\n",
    "    \n",
    "    sentence = 1\n",
    "    image_list = []\n",
    "    createFolder('./cardnews/topic_'+str(grp))\n",
    "    \n",
    "    fontsize = 26  # starting font size\n",
    "    font = ImageFont.truetype(\"NanumSquareOTF_acR.otf\", fontsize)\n",
    "    \n",
    "    text_color = (0, 0, 0)\n",
    "    text_start_height = 600\n",
    "    \n",
    "    page = 0    \n",
    "    \n",
    "    for j in total_dict['grp_'+str(grp)]['top_article'] :\n",
    "        \n",
    "        cardnews_layout = Image.new('RGB', (900, 900), color = (256, 256, 256))    \n",
    "\n",
    "        text = j    \n",
    "        \n",
    "        # draw text\n",
    "        draw_multiple_line_text(cardnews_layout, text, font, text_color, text_start_height)\n",
    "        \n",
    "        # draw article image \n",
    "        grp_id_list = total_dict['grp_'+str(grp)]['grp_id_list']\n",
    "        #img_aid = keyword['aid'][grp_id_list[page]]\n",
    "       \n",
    "        cardnews_layout.save('./cardnews/topic_'+str(grp)+'/'+str(grp)+'_'+str(sentence)+'.png')\n",
    "        sentence += 1\n",
    "        page += 1"
   ]
  },
  {
   "cell_type": "code",
   "execution_count": 177,
   "metadata": {},
   "outputs": [
    {
     "name": "stdout",
     "output_type": "stream",
     "text": [
      "./images/20200503161304643_1.jpg\n",
      "./images/20200503161304643_0.jpg\n",
      "./images/20200503075105937_0.jpg\n",
      "./images/20200427041628781_1.jpg\n",
      "./images/20200427041628781_0.jpg\n",
      "./images/20200427041628781_2.jpg\n",
      "./images/20200427041628781_3.jpg\n",
      "./images/20200426155523148_2.jpg\n",
      "./images/20200426155523148_1.jpg\n",
      "./images/20200426155523148_0.jpg\n",
      "./images/20200422155235507_1.jpg\n",
      "./images/20200422155235507_0.jpg\n",
      "./images/20200422155235507_2.jpg\n",
      "./images/20200422034326014_1.jpg\n",
      "./images/20200422034326014_0.jpg\n",
      "5\n",
      "0_1.png\n",
      "resize img 0 0\n",
      "0_3.png\n",
      "0_2.png\n",
      "0_5.png\n",
      "0_4.png\n",
      "./images/20200508064410281_0.jpg\n",
      "./images/20200502210303312_2.jpg\n",
      "./images/20200502210303312_0.jpg\n",
      "./images/20200502210303312_1.jpg\n",
      "./images/20200502175851181_1.jpg\n",
      "./images/20200502175851181_0.jpg\n",
      "./images/20200501072219750_0.jpg\n",
      "./images/20200501072219750_1.jpg\n",
      "./images/20200501000004904_0.jpg\n",
      "./images/20200429231130777_0.jpg\n",
      "./images/20200429230420689_0.jpg\n",
      "./images/20200429001856847_1.jpg\n",
      "./images/20200429001856847_0.jpg\n",
      "./images/20200428173221564_0.jpg\n",
      "./images/20200428162843034_0.jpg\n",
      "./images/20200428154554165_0.jpg\n",
      "./images/20200428154554165_1.jpg\n",
      "./images/20200428152444247_0.jpg\n",
      "./images/20200428133809065_0.jpg\n",
      "./images/20200428122555483_0.jpg\n",
      "./images/20200428100122084_0.jpg\n",
      "./images/20200428100122084_1.jpg\n",
      "./images/20200428090659392_0.jpg\n",
      "./images/20200427111141521_0.jpg\n",
      "./images/20200427085041047_0.jpg\n",
      "./images/20200425171853274_0.jpg\n",
      "./images/20200424183326469_1.jpg\n",
      "./images/20200424183326469_0.jpg\n",
      "./images/20200424090322064_0.jpg\n",
      "./images/20200424090322064_1.jpg\n",
      "./images/20200423054514640_0.jpg\n",
      "./images/20200423003713626_0.jpg\n",
      "./images/20200422214131846_0.jpg\n",
      "./images/20200422203604873_1.jpg\n",
      "./images/20200422203604873_0.jpg\n",
      "./images/20200422203003797_0.jpg\n",
      "./images/20200422124415772_1.jpg\n",
      "./images/20200422124415772_0.jpg\n",
      "./images/20200422053013780_0.jpg\n",
      "./images/20200422043624326_0.jpg\n",
      "./images/20200421225510051_1.jpg\n",
      "./images/20200421225510051_0.jpg\n",
      "./images/20200421223835879_0.jpg\n",
      "./images/20200421200832164_0.jpg\n",
      "./images/20200421170223821_1.jpg\n",
      "./images/20200421170223821_0.jpg\n",
      "./images/20200421150300353_0.jpg\n",
      "./images/20200421123111551_0.jpg\n",
      "./images/20200421105712498_0.jpg\n",
      "5\n",
      "1_3.png\n",
      "1_2.png\n",
      "1_1.png\n",
      "1_5.png\n",
      "1_4.png\n",
      "./images/20200504005937907_0.jpg\n",
      "./images/20200502153036993_2.jpg\n",
      "./images/20200502153036993_3.jpg\n",
      "./images/20200502153036993_1.jpg\n",
      "./images/20200502153036993_0.jpg\n",
      "./images/20200502102654197_2.jpg\n",
      "./images/20200502102654197_3.jpg\n",
      "./images/20200502102654197_1.jpg\n",
      "./images/20200502102654197_0.jpg\n",
      "./images/20200429092952692_1.jpg\n",
      "./images/20200429092952692_0.jpg\n",
      "./images/20200428113714365_0.jpg\n",
      "./images/20200428113714365_1.jpg\n",
      "./images/20200424114335728_0.jpg\n",
      "6\n",
      "2_2.png\n",
      "2_3.png\n",
      "2_1.png\n",
      "2_4.png\n",
      "2_5.png\n",
      "2_6.png\n",
      "./images/20200506103734248_0.jpg\n",
      "./images/20200505142708337_0.jpg\n",
      "./images/20200504145103736_2.jpg\n",
      "./images/20200504145103736_0.jpg\n",
      "./images/20200504145103736_1.jpg\n",
      "./images/20200503113454574_1.jpg\n",
      "./images/20200503113454574_0.jpg\n",
      "./images/20200503113454574_2.jpg\n",
      "./images/20200503111920338_0.jpg\n",
      "./images/20200502113022011_0.jpg\n",
      "./images/20200502113022011_1.jpg\n",
      "./images/20200502113022011_2.jpg\n",
      "./images/20200501092541659_1.jpg\n",
      "./images/20200501092541659_0.jpg\n",
      "./images/20200501092541659_2.jpg\n",
      "./images/20200430180517587_2.jpg\n",
      "./images/20200430180517587_1.jpg\n",
      "./images/20200430180517587_0.jpg\n",
      "./images/20200427145123331_1.jpg\n",
      "./images/20200427145123331_0.jpg\n",
      "./images/20200427054200224_0.jpg\n",
      "./images/20200426154015825_0.jpg\n",
      "./images/20200424192623115_2.jpg\n",
      "./images/20200424192623115_1.jpg\n",
      "./images/20200424192623115_0.jpg\n",
      "./images/20200423174205110_0.jpg\n",
      "./images/20200423060049839_0.jpg\n",
      "5\n",
      "3_1.png\n",
      "3_2.png\n",
      "3_3.png\n",
      "3_4.png\n",
      "3_5.png\n",
      "./images/20200501000022917_0.jpg\n",
      "./images/20200501000022917_1.jpg\n",
      "./images/20200501000022917_3.jpg\n",
      "./images/20200501000022917_2.jpg\n",
      "./images/20200430120850396_0.jpg\n",
      "./images/20200429134531067_0.jpg\n",
      "./images/20200427161157914_0.jpg\n",
      "./images/20200427161157914_1.jpg\n",
      "./images/20200427161157914_2.jpg\n",
      "./images/20200423110448094_0.jpg\n",
      "./images/20200422170615202_2.jpg\n",
      "./images/20200422170615202_0.jpg\n",
      "./images/20200422170615202_1.jpg\n",
      "./images/20200422091704711_2.jpg\n",
      "./images/20200422091704711_1.jpg\n",
      "./images/20200422091704711_0.jpg\n",
      "./images/20200421200157073_0.jpg\n",
      "./images/20200421200157073_1.jpg\n",
      "5\n",
      "4_4.png\n",
      "4_5.png\n",
      "4_2.png\n",
      "4_3.png\n",
      "4_1.png\n",
      "./images/20200506162953213_0.jpg\n",
      "./images/20200505160004929_1.jpg\n",
      "./images/20200505160004929_0.jpg\n",
      "./images/20200504110320326_0.jpg\n",
      "./images/20200504110320326_1.jpg\n",
      "./images/20200504070102536_0.jpg\n",
      "./images/20200504070102536_1.jpg\n",
      "./images/20200504063911358_0.jpg\n",
      "./images/20200503055910255_0.jpg\n",
      "./images/20200502080022411_0.jpg\n",
      "./images/20200501172207482_0.jpg\n",
      "./images/20200501110345896_0.jpg\n",
      "./images/20200501094105010_0.jpg\n",
      "./images/20200429115442156_1.jpg\n",
      "./images/20200429115442156_0.jpg\n",
      "./images/20200428103214740_0.jpg\n",
      "./images/20200426153050657_0.jpg\n",
      "./images/20200426095535262_1.jpg\n",
      "./images/20200426095535262_0.jpg\n",
      "./images/20200426051043184_2.jpg\n",
      "./images/20200426051043184_3.jpg\n",
      "./images/20200426051043184_1.jpg\n",
      "./images/20200426051043184_0.jpg\n",
      "./images/20200425132952407_0.jpg\n",
      "./images/20200425132952407_1.jpg\n",
      "./images/20200425073614993_0.jpg\n",
      "./images/20200425073614993_1.jpg\n",
      "./images/20200423115043315_0.jpg\n",
      "./images/20200423105220419_0.jpg\n",
      "./images/20200421190929360_2.jpg\n",
      "./images/20200421190929360_1.jpg\n",
      "./images/20200421190929360_0.jpg\n",
      "./images/20200421142723404_4.jpg\n",
      "./images/20200421142723404_3.jpg\n",
      "./images/20200421142723404_2.jpg\n",
      "./images/20200421142723404_0.jpg\n",
      "./images/20200421142723404_1.jpg\n",
      "./images/20200421133019039_0.jpg\n",
      "./images/20200421113934776_0.jpg\n",
      "./images/20200421112905290_0.jpg\n",
      "./images/20200421112548148_0.jpg\n",
      "./images/20200421105747512_0.jpg\n",
      "./images/20200421050238889_1.jpg\n",
      "./images/20200421050238889_0.jpg\n",
      "6\n",
      "5_6.png\n",
      "5_4.png\n",
      "5_5.png\n",
      "5_1.png\n",
      "5_2.png\n",
      "5_3.png\n",
      "./images/20200506125509867_0.jpg\n",
      "./images/20200502103215278_0.jpg\n",
      "./images/20200502080743546_1.jpg\n",
      "./images/20200502080743546_0.jpg\n",
      "./images/20200502080743546_2.jpg\n",
      "./images/20200502070044854_4.jpg\n",
      "./images/20200502070044854_3.jpg\n",
      "./images/20200502070044854_2.jpg\n",
      "./images/20200502070044854_0.jpg\n",
      "./images/20200502070044854_1.jpg\n",
      "./images/20200501202804016_0.jpg\n",
      "./images/20200501192403246_0.jpg\n",
      "./images/20200501163902668_0.jpg\n",
      "./images/20200501070820645_0.jpg\n",
      "./images/20200429180045001_0.jpg\n",
      "./images/20200429172111569_2.jpg\n",
      "./images/20200429172111569_0.jpg\n",
      "./images/20200429172111569_1.jpg\n",
      "./images/20200429100149216_0.jpg\n",
      "./images/20200428203508335_0.jpg\n",
      "./images/20200427170251125_0.jpg\n",
      "./images/20200427070802110_0.jpg\n",
      "./images/20200427063854762_0.jpg\n",
      "./images/20200425165506057_1.jpg\n",
      "./images/20200425165506057_0.jpg\n",
      "./images/20200423233252268_1.jpg\n",
      "./images/20200423233252268_0.jpg\n",
      "./images/20200423090847317_0.jpg\n",
      "./images/20200422080733791_1.jpg\n",
      "./images/20200422080733791_0.jpg\n",
      "./images/20200421151735099_0.jpg\n",
      "./images/20200421151735099_1.jpg\n",
      "./images/20200421123659657_0.jpg\n",
      "./images/20200421121504190_0.jpg\n",
      "./images/20200421121504190_1.jpg\n",
      "./images/20200421115000233_0.jpg\n",
      "./images/20200421110423933_0.jpg\n",
      "6\n",
      "6_6.png\n",
      "6_5.png\n",
      "6_4.png\n",
      "6_1.png\n",
      "6_3.png\n",
      "6_2.png\n",
      "./images/20200506102618673_0.jpg\n",
      "./images/20200506082119732_0.jpg\n",
      "./images/20200503231735454_0.jpg\n",
      "./images/20200503190759715_0.jpg\n",
      "./images/20200503160547563_0.jpg\n",
      "./images/20200503080219057_0.jpg\n",
      "./images/20200503071103796_0.jpg\n",
      "./images/20200503010605660_0.jpg\n",
      "./images/20200502181309272_0.jpg\n",
      "./images/20200502145857708_0.jpg\n",
      "./images/20200502145857708_1.jpg\n",
      "./images/20200502145857708_2.jpg\n",
      "./images/20200502112430941_0.jpg\n",
      "./images/20200502110817721_0.jpg\n",
      "./images/20200502105223502_0.jpg\n",
      "./images/20200429100942637_0.jpg\n",
      "./images/20200429100942637_1.jpg\n",
      "./images/20200429100942637_3.jpg\n",
      "./images/20200429100942637_2.jpg\n",
      "./images/20200429031659999_0.jpg\n",
      "./images/20200428082206087_0.jpg\n",
      "./images/20200427092843607_0.jpg\n",
      "./images/20200427092843607_1.jpg\n",
      "./images/20200423114429026_0.jpg\n",
      "./images/20200422151406221_0.jpg\n",
      "./images/20200422143644185_0.jpg\n",
      "./images/20200422100109579_1.jpg\n",
      "./images/20200422100109579_0.jpg\n",
      "./images/20200422100109579_2.jpg\n",
      "./images/20200422072830160_0.jpg\n",
      "./images/20200422031135886_1.jpg\n",
      "./images/20200422031135886_0.jpg\n",
      "./images/20200421171048168_0.jpg\n",
      "4\n",
      "7_4.png\n",
      "7_3.png\n",
      "7_2.png\n",
      "7_1.png\n",
      "./images/20200507010234962_0.jpg\n",
      "./images/20200507010234962_1.jpg\n",
      "./images/20200506172627343_1.jpg\n",
      "./images/20200506172627343_0.jpg\n",
      "./images/20200506132834704_1.jpg\n",
      "./images/20200506132834704_0.jpg\n",
      "./images/20200506132834704_2.jpg\n",
      "./images/20200428211151845_1.jpg\n",
      "./images/20200428211151845_0.jpg\n",
      "./images/20200424030104541_0.jpg\n",
      "./images/20200421155946291_0.jpg\n",
      "4\n",
      "8_1.png\n",
      "8_3.png\n",
      "resize img 8 1\n",
      "8_2.png\n",
      "8_4.png\n"
     ]
    }
   ],
   "source": [
    "#new\n",
    "for grp in range(0,len(total_dict)) :\n",
    "    image_list = []\n",
    "    \n",
    "    for j in range(0, len(total_dict['grp_'+str(grp)]['grp_id_list'])) :\n",
    "        a = total_dict['grp_'+str(grp)]['grp_id_list'][j]\n",
    "        # draw article image \n",
    "        img_aid = keyword['aid'][a]\n",
    "        \n",
    "        filenames = os.listdir('images')\n",
    "        for i in range(0, len(filenames)):\n",
    "            if str(img_aid) in filenames[i]:\n",
    "                image_list.append('./images/'+filenames[i])\n",
    "                print('./images/'+filenames[i])\n",
    "    #print(image_list)\n",
    "    \n",
    "    \n",
    "    \n",
    "    card = os.listdir('cardnews/topic_'+str(grp))\n",
    "    print(len(card))\n",
    "    \n",
    "    if len(image_list)<len(card):\n",
    "        tmp = len(card) - len(image_list)\n",
    "        for i in range(0, tmp):\n",
    "            image_list.append(image_list[len(image_list)-1])\n",
    "        \n",
    "#     try :\n",
    "#         for i in range(0, len(card)):\n",
    "#             if (card[i] == '.ipynb_checkpoints') :\n",
    "#                 shutil.rmtree(card[i])\n",
    "#     except FileNotFoundError:\n",
    "#         pass\n",
    "     \n",
    "    for idx, f in enumerate(card) :\n",
    "        print(f)\n",
    "        if f.endswith('.png') :\n",
    "            background = Image.open('./cardnews/topic_'+str(grp)+'/'+f, 'r')\n",
    "            article_img = Image.open(image_list[idx], 'r')\n",
    "            img_w, img_h = article_img.size\n",
    "            bg_w, bg_h = cardnews_layout.size\n",
    "            if img_h > 600 :\n",
    "                article_img = article_img.resize((int(img_w * (500/img_h)) , 500))\n",
    "                print(\"resize img\", grp, idx)\n",
    "                img_w, img_h = article_img.size\n",
    "                \n",
    "            offset = (int((bg_w - img_w) / 2), int((600 - img_h) / 2)) \n",
    "\n",
    "            background.paste(article_img, box=offset)\n",
    "            #background.save('./cardnews/topic_'+str(grp)+'/'+str(grp)+'_'+str(i)+'.png')\n",
    "            background.save('./cardnews/topic_'+str(grp)+'/'+f)\n",
    "\n",
    "    # Title Page 생성\n",
    "    title_layout = Image.new('RGB', (900, 900), color = (256, 256, 256))\n",
    "    black = Image.new('RGBA', (900, 400), color = (0, 0, 0, 180))\n",
    "    \n",
    "    num = len(image_list) - 1\n",
    "    main_img = Image.open(image_list[num], 'r')\n",
    "    img_w, img_h = main_img.size\n",
    "    main_img = main_img.resize((int(img_w * (1200/img_h)) , 1200))\n",
    "    img_w, img_h = main_img.size\n",
    "    offset = (int((900 - img_w) / 2), int((900 - img_h) / 2))\n",
    "    \n",
    "    title_layout.paste(main_img, box=offset)\n",
    "    title_layout.paste(black, box=(0,250), mask = black)\n",
    "    \n",
    "    font_bold = ImageFont.truetype(\"NanumSquareOTF_acB.otf\", 60)\n",
    "    text_color = (256, 256, 256)\n",
    "    \n",
    "    title = total_dict['grp_'+str(grp)]['title']\n",
    "    draw_title(title_layout, title, font_bold, text_color, 350)\n",
    "    \n",
    "    title_layout.save('./cardnews/topic_'+str(grp)+'/'+str(grp)+'_title'+'.png')"
   ]
  },
  {
   "cell_type": "code",
   "execution_count": null,
   "metadata": {},
   "outputs": [],
   "source": []
  }
 ],
 "metadata": {
  "kernelspec": {
   "display_name": "Python 3",
   "language": "python",
   "name": "python3"
  },
  "language_info": {
   "codemirror_mode": {
    "name": "ipython",
    "version": 3
   },
   "file_extension": ".py",
   "mimetype": "text/x-python",
   "name": "python",
   "nbconvert_exporter": "python",
   "pygments_lexer": "ipython3",
   "version": "3.7.7"
  }
 },
 "nbformat": 4,
 "nbformat_minor": 4
}
